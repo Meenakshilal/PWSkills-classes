{
 "cells": [
  {
   "cell_type": "code",
   "execution_count": 1,
   "id": "e71dca92-be49-42ac-8f1f-5dfbdcdcd787",
   "metadata": {},
   "outputs": [
    {
     "name": "stdout",
     "output_type": "stream",
     "text": [
      "Yes, i will be able to buy\n"
     ]
    }
   ],
   "source": [
    "a = 500\n",
    "price = 450\n",
    "if price <= 500:\n",
    "    print(\"Yes, i will be able to buy\")\n",
    "    "
   ]
  },
  {
   "cell_type": "code",
   "execution_count": 2,
   "id": "c5cf3e74-2763-4656-965a-c0e91dae33ab",
   "metadata": {},
   "outputs": [
    {
     "data": {
      "text/plain": [
       "False"
      ]
     },
     "execution_count": 2,
     "metadata": {},
     "output_type": "execute_result"
    }
   ],
   "source": [
    "price>500"
   ]
  },
  {
   "cell_type": "code",
   "execution_count": 5,
   "id": "8fda2eed-1c78-4094-8668-e01b85f9b82b",
   "metadata": {},
   "outputs": [
    {
     "name": "stdout",
     "output_type": "stream",
     "text": [
      "NO, i will not be able to buy\n"
     ]
    }
   ],
   "source": [
    "a = 500\n",
    "price = 560\n",
    "if price <= 500:\n",
    "    print(\"Yes, i will be able to buy\")\n",
    "else:\n",
    "    print (\"NO, i will not be able to buy\")"
   ]
  },
  {
   "cell_type": "code",
   "execution_count": 7,
   "id": "7a2f0213-de80-4d22-84c8-a32e66300277",
   "metadata": {},
   "outputs": [
    {
     "name": "stdout",
     "output_type": "stream",
     "text": [
      "I will try to buy shirt\n"
     ]
    }
   ],
   "source": [
    "a = 500\n",
    "shirt_price = 200\n",
    "pant_price = 500\n",
    "coat_price = 800\n",
    "if coat_price <= a:\n",
    "    print(\"Yes, i will be try to buy Coat\")\n",
    "elif pant_price < 500:\n",
    "    print (\"I will try to buy pant\")\n",
    "elif shirt_price < 500:\n",
    "    print (\"I will try to buy shirt\")\n",
    "else:\n",
    "    print (\"NO, i will not be able to buy\")"
   ]
  },
  {
   "cell_type": "code",
   "execution_count": 8,
   "id": "3b062626-28ae-4a0e-a874-6e17627967ad",
   "metadata": {},
   "outputs": [
    {
     "name": "stdout",
     "output_type": "stream",
     "text": [
      "yes it is available under my budget\n",
      "my size is not available\n"
     ]
    }
   ],
   "source": [
    "a = 500\n",
    "shirt_price = 200\n",
    "pant_price = 500\n",
    "coat_price = 800\n",
    "my_size = 'M'\n",
    "size_store = 'L'\n",
    "if coat_price <= a:\n",
    "    print(\"Yes, i will be try to buy Coat\")\n",
    "elif pant_price < 500:\n",
    "    print (\"I will try to buy pant\")\n",
    "elif shirt_price < 500:\n",
    "    print (\"yes it is available under my budget\")\n",
    "    if my_size == size_store:\n",
    "        print (\"I will try to buy shirt\")\n",
    "    else:\n",
    "        print(\"my size is not available\")\n",
    "else:\n",
    "    print (\"NO, i will not be able to buy\")"
   ]
  },
  {
   "cell_type": "code",
   "execution_count": 9,
   "id": "287779ed-499b-4a52-8122-d38c3e73c750",
   "metadata": {},
   "outputs": [
    {
     "name": "stdout",
     "output_type": "stream",
     "text": [
      "yes it is available under my budget\n",
      "my size is not available\n"
     ]
    }
   ],
   "source": [
    "a = 500\n",
    "shirt_price = 200\n",
    "pant_price = 500\n",
    "coat_price = 800\n",
    "my_size = 'M'\n",
    "size_store = ['L','XL','S','XXL']\n",
    "if coat_price <= a:\n",
    "    print(\"Yes, i will be try to buy Coat\")\n",
    "elif pant_price < 500:\n",
    "    print (\"I will try to buy pant\")\n",
    "elif shirt_price < 500:\n",
    "    print (\"yes it is available under my budget\")\n",
    "    if my_size in size_store:\n",
    "        print (\"I will try to buy shirt\")\n",
    "    else:\n",
    "        print(\"my size is not available\")\n",
    "else:\n",
    "    print (\"NO, i will not be able to buy\")"
   ]
  },
  {
   "cell_type": "code",
   "execution_count": 12,
   "id": "445ec272-0356-4e46-af9f-5d5b88042b8d",
   "metadata": {},
   "outputs": [
    {
     "name": "stdout",
     "output_type": "stream",
     "text": [
      "yes it is available under my budget\n",
      "yes, my size is available\n",
      "yes, my favourite color is available, Let's buy!\n"
     ]
    }
   ],
   "source": [
    "a = 500\n",
    "shirt_price = 200\n",
    "pant_price = 500\n",
    "coat_price = 800\n",
    "my_size = 'M'\n",
    "size_store = ['L','XL','S','XXL','M']\n",
    "my_fav_clr = 'Black'\n",
    "store_clr = ['White','Red','blue', 'Black']\n",
    "if coat_price <= a:\n",
    "    print(\"Yes, i will be try to buy Coat\")\n",
    "elif pant_price < 500:\n",
    "    print (\"I will try to buy pant\")\n",
    "elif shirt_price < 500:\n",
    "    print (\"yes it is available under my budget\")\n",
    "    if my_size in size_store:\n",
    "        print (\"yes, my size is available\")\n",
    "        if my_fav_clr in store_clr:\n",
    "            print(\"yes, my favourite color is available, Let's buy!\")\n",
    "        else:\n",
    "            print(\"my fav clr is not availble, let's move to another store\")\n",
    "    else:\n",
    "        print(\"my size is not available\")\n",
    "else:\n",
    "    print (\"NO, i will not be able to buy\")"
   ]
  },
  {
   "cell_type": "code",
   "execution_count": 17,
   "id": "a9db9b78-d0a1-40d1-84e7-a57323603f0e",
   "metadata": {},
   "outputs": [
    {
     "name": "stdout",
     "output_type": "stream",
     "text": [
      "yes, buy this course\n"
     ]
    }
   ],
   "source": [
    "Course = ['DSM','DSA','JAVA','big data','DA']\n",
    "price = 20000\n",
    "mentor = \"Sudhanshu Kumar\"\n",
    "if 'DSM' in Course and price == 20000 and \"Sudhanshu Kumar\" == mentor:\n",
    "    print(\"yes, buy this course\")"
   ]
  },
  {
   "cell_type": "code",
   "execution_count": 18,
   "id": "20c81511-a1bb-4f1a-b7d0-5ca5b70d1552",
   "metadata": {},
   "outputs": [
    {
     "name": "stdout",
     "output_type": "stream",
     "text": [
      "its out of my budget\n"
     ]
    }
   ],
   "source": [
    "course_price = 20000\n",
    "if 10000<=course_price<=15000:\n",
    "    print(\"i will try to buy a course\")\n",
    "else:\n",
    "    print(\"its out of my budget\")"
   ]
  },
  {
   "cell_type": "code",
   "execution_count": 1,
   "id": "7b90ba00-ff3f-4803-b731-16fbe851d7dc",
   "metadata": {},
   "outputs": [
    {
     "name": "stdin",
     "output_type": "stream",
     "text": [
      "enter your username meena\n"
     ]
    },
    {
     "name": "stdout",
     "output_type": "stream",
     "text": [
      "enter your correct username and password\n"
     ]
    }
   ],
   "source": [
    "user_name = \"Meena\"\n",
    "password = \"meena@1234\"\n",
    "\n",
    "if user_name == input(\"enter your username\") and password == input(\"enter your password\"):\n",
    "    print(\"You have logged in successfully\")\n",
    "else:\n",
    "    print(\"enter your correct username and password\")"
   ]
  },
  {
   "cell_type": "code",
   "execution_count": 6,
   "id": "781673c3-5ec8-40f5-95be-5cf9804abad2",
   "metadata": {},
   "outputs": [
    {
     "name": "stdin",
     "output_type": "stream",
     "text": [
      "enter your registered no. no. 123456789\n"
     ]
    },
    {
     "name": "stdout",
     "output_type": "stream",
     "text": [
      "yes you are a registered user\n"
     ]
    },
    {
     "name": "stdin",
     "output_type": "stream",
     "text": [
      "enter otp that we have sent on your mo no 1234\n"
     ]
    },
    {
     "name": "stdout",
     "output_type": "stream",
     "text": [
      "you have logged in successfully\n"
     ]
    }
   ],
   "source": [
    "mobile_no = 123456789\n",
    "otp = 1234\n",
    "if mobile_no == int(input(\"enter your registered no. no.\")):\n",
    "    print(\"yes you are a registered user\")\n",
    "    if otp == int(input(\"enter otp that we have sent on your mo no\")):\n",
    "        print(\"you have logged in successfully\")\n",
    "    else:\n",
    "        print(\"OTP is not correct please try again\")\n",
    "else:\n",
    "    print(\"you have not entered a valid mo. no.\")"
   ]
  },
  {
   "cell_type": "code",
   "execution_count": 8,
   "id": "e2823c29-92a2-4b06-9fd1-a7a7c287a0b2",
   "metadata": {},
   "outputs": [
    {
     "name": "stdin",
     "output_type": "stream",
     "text": [
      "enter your registered no. no. 123456\n"
     ]
    },
    {
     "name": "stdout",
     "output_type": "stream",
     "text": [
      "yes you are a registered user\n"
     ]
    },
    {
     "name": "stdin",
     "output_type": "stream",
     "text": [
      "enter otp that we have sent on your mo no 1234\n"
     ]
    },
    {
     "name": "stdout",
     "output_type": "stream",
     "text": [
      "you have logged in successfully\n"
     ]
    }
   ],
   "source": [
    "mobile_no = {123456,4841684,5484518451,4844819869,846539,5168496,8996987862,266223362203}\n",
    "otp = 1234\n",
    "if int(input(\"enter your registered no. no.\")) in mobile_no:\n",
    "    print(\"yes you are a registered user\")\n",
    "    if otp == int(input(\"enter otp that we have sent on your mo no\")):\n",
    "        print(\"you have logged in successfully\")\n",
    "    else:\n",
    "        print(\"OTP is not correct please try again\")\n",
    "else:\n",
    "    print(\"you have not entered a valid mo. no.\")"
   ]
  },
  {
   "cell_type": "code",
   "execution_count": 9,
   "id": "fd34edb0-79e0-47a2-9eed-3a1356f2681c",
   "metadata": {},
   "outputs": [],
   "source": [
    "##LOOP"
   ]
  },
  {
   "cell_type": "code",
   "execution_count": 13,
   "id": "fd14d783-a21a-4be2-b988-bedaa4c8f33c",
   "metadata": {},
   "outputs": [
    {
     "name": "stdout",
     "output_type": "stream",
     "text": [
      "12\n",
      "5\n",
      "6\n",
      "2\n",
      "3\n",
      "7\n",
      "8\n"
     ]
    }
   ],
   "source": [
    "l = [12,5,6,2,3,7,8]\n",
    "for i in l:\n",
    "    print(i)"
   ]
  },
  {
   "cell_type": "code",
   "execution_count": 17,
   "id": "110250ae-062c-47d0-bcce-9c887555d995",
   "metadata": {},
   "outputs": [
    {
     "name": "stdout",
     "output_type": "stream",
     "text": [
      "123456\n",
      "yes user is a registered user\n",
      "yes, student details are available\n",
      "Access granted to these courses ['dsa', 'dsm', 'big data']\n",
      "4841684\n",
      "5484518451\n",
      "4844819869\n",
      "846539\n",
      "5168496\n",
      "8996987862\n",
      "266223362203\n"
     ]
    }
   ],
   "source": [
    "l = [12,5,6,2,3,7,8]\n",
    "mobile_no = [123456,4841684,5484518451,4844819869,846539,5168496,8996987862,266223362203]\n",
    "stud_mo = 123456\n",
    "stud_details = {'mobile_no' : 123456, 'course':['dsa','dsm','big data']}\n",
    "for i in mobile_no:\n",
    "    print(i)\n",
    "    if i == stud_mo:\n",
    "        print(\"yes user is a registered user\")\n",
    "        if i ==stud_details['mobile_no']:\n",
    "            print(\"yes, student details are available\")\n",
    "            print(\"Access granted to these courses\", stud_details['course'])"
   ]
  },
  {
   "cell_type": "code",
   "execution_count": 22,
   "id": "fb4794b6-b94e-4acd-8f37-f4e403157697",
   "metadata": {},
   "outputs": [
    {
     "name": "stdout",
     "output_type": "stream",
     "text": [
      "meena\n"
     ]
    }
   ],
   "source": [
    "t = (12,68,5,24,31,20,'meena')\n",
    "\n",
    "for i in t:\n",
    "    if type(i) == str:\n",
    "        print(i)"
   ]
  },
  {
   "cell_type": "code",
   "execution_count": 24,
   "id": "055bb731-85c3-4209-82ec-625c2453997e",
   "metadata": {},
   "outputs": [
    {
     "name": "stdout",
     "output_type": "stream",
     "text": [
      "['meena']\n",
      "[12, 68, 5, 24, 31, 20]\n"
     ]
    }
   ],
   "source": [
    "t = (12,68,5,24,31,20,'meena')\n",
    "a=[]\n",
    "b=[]\n",
    "for i in t:\n",
    "    if type(i) == str:\n",
    "        a.append(i)\n",
    "    elif type(i) == int:\n",
    "        b.append(i)\n",
    "print (a)\n",
    "print(b)"
   ]
  },
  {
   "cell_type": "code",
   "execution_count": 25,
   "id": "01c444bc-1d4b-4e1e-8d0f-f2c44d757805",
   "metadata": {},
   "outputs": [
    {
     "name": "stdout",
     "output_type": "stream",
     "text": [
      "5\n",
      "6\n",
      "7\n",
      "8\n",
      "9\n",
      "12\n",
      "45\n",
      "56\n",
      "57\n"
     ]
    }
   ],
   "source": [
    "s ={56,12,57,9,8,9,5,7,6,45}\n",
    "for i in s:\n",
    "    print(i)"
   ]
  },
  {
   "cell_type": "code",
   "execution_count": 26,
   "id": "791a92ec-ba71-445f-a055-40e499f6fb38",
   "metadata": {},
   "outputs": [
    {
     "name": "stdout",
     "output_type": "stream",
     "text": [
      "Meena\n",
      "['Big data', 'Data Analytics', 'Data science', 'DSA', 'Architecture']\n",
      "456123789\n",
      "meena@gmail.com\n"
     ]
    }
   ],
   "source": [
    "d = {\"name\": \"Meena\", \"class\": [\"Big data\", \"Data Analytics\",\"Data science\",\"DSA\",\"Architecture\"], \"mobile_no\": 456123789, \"email_id\": \"meena@gmail.com\"}\n",
    "for i in d.values():\n",
    "    print (i)\n",
    "    "
   ]
  },
  {
   "cell_type": "code",
   "execution_count": 27,
   "id": "c921df0a-b5a2-46cc-935b-37cdb9b9248b",
   "metadata": {},
   "outputs": [
    {
     "data": {
      "text/plain": [
       "dict_items([('name', 'Meena'), ('class', ['Big data', 'Data Analytics', 'Data science', 'DSA', 'Architecture']), ('mobile_no', 456123789), ('email_id', 'meena@gmail.com')])"
      ]
     },
     "execution_count": 27,
     "metadata": {},
     "output_type": "execute_result"
    }
   ],
   "source": [
    "d.items()"
   ]
  },
  {
   "cell_type": "code",
   "execution_count": 28,
   "id": "9433e0f7-0fb3-49e3-9d34-1839296b3a4c",
   "metadata": {},
   "outputs": [
    {
     "data": {
      "text/plain": [
       "dict_keys(['name', 'class', 'mobile_no', 'email_id'])"
      ]
     },
     "execution_count": 28,
     "metadata": {},
     "output_type": "execute_result"
    }
   ],
   "source": [
    "d.keys()"
   ]
  },
  {
   "cell_type": "code",
   "execution_count": 29,
   "id": "c7719ca7-c2cc-473e-a3ad-c42463984bad",
   "metadata": {},
   "outputs": [
    {
     "data": {
      "text/plain": [
       "dict_values(['Meena', ['Big data', 'Data Analytics', 'Data science', 'DSA', 'Architecture'], 456123789, 'meena@gmail.com'])"
      ]
     },
     "execution_count": 29,
     "metadata": {},
     "output_type": "execute_result"
    }
   ],
   "source": [
    "d.values()"
   ]
  },
  {
   "cell_type": "code",
   "execution_count": 30,
   "id": "0df140b7-c45f-46e1-9a5a-2b9d26d1d572",
   "metadata": {},
   "outputs": [
    {
     "name": "stdout",
     "output_type": "stream",
     "text": [
      "['Big data', 'Data Analytics', 'Data science', 'DSA', 'Architecture']\n"
     ]
    }
   ],
   "source": [
    "d = {\"name\": \"Meena\", \"class\": [\"Big data\", \"Data Analytics\",\"Data science\",\"DSA\",\"Architecture\"], \"mobile_no\": 456123789, \"email_id\": \"meena@gmail.com\"}\n",
    "for i in d.values():\n",
    "    if type(i) == list:\n",
    "        print(i)\n",
    "    "
   ]
  },
  {
   "cell_type": "code",
   "execution_count": 32,
   "id": "cb23204c-7f58-438f-b5b9-7c3b1357782f",
   "metadata": {},
   "outputs": [
    {
     "name": "stdout",
     "output_type": "stream",
     "text": [
      "System design is in: ['Big data', 'System design', 'Data Analytics', 'Data science', 'DSA', 'Architecture']\n"
     ]
    }
   ],
   "source": [
    "d = {\"name\": \"Meena\", \"class\": [\"Big data\",\"System design\", \"Data Analytics\",\"Data science\",\"DSA\",\"Architecture\"], \"mobile_no\": 456123789, \"email_id\": \"meena@gmail.com\"}\n",
    "for i in d.values():\n",
    "    if type(i) == list:\n",
    "        if \"System design\" in i:\n",
    "            print (\"System design is in:\", i)\n",
    "    "
   ]
  },
  {
   "cell_type": "code",
   "execution_count": null,
   "id": "6491142d-5f61-4c22-9f72-5b733bf01be2",
   "metadata": {},
   "outputs": [],
   "source": []
  }
 ],
 "metadata": {
  "kernelspec": {
   "display_name": "Python 3 (ipykernel)",
   "language": "python",
   "name": "python3"
  },
  "language_info": {
   "codemirror_mode": {
    "name": "ipython",
    "version": 3
   },
   "file_extension": ".py",
   "mimetype": "text/x-python",
   "name": "python",
   "nbconvert_exporter": "python",
   "pygments_lexer": "ipython3",
   "version": "3.10.8"
  }
 },
 "nbformat": 4,
 "nbformat_minor": 5
}
