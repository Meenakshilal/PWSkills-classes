{
 "cells": [
  {
   "cell_type": "code",
   "execution_count": 1,
   "id": "116926ed-aec3-4e58-9e5a-6546dea234d7",
   "metadata": {},
   "outputs": [],
   "source": [
    "l = []      ##contains heterogenious data"
   ]
  },
  {
   "cell_type": "code",
   "execution_count": 2,
   "id": "0cae6047-6af1-4f27-936f-2aba2528af24",
   "metadata": {},
   "outputs": [
    {
     "data": {
      "text/plain": [
       "list"
      ]
     },
     "execution_count": 2,
     "metadata": {},
     "output_type": "execute_result"
    }
   ],
   "source": [
    "type(l)"
   ]
  },
  {
   "cell_type": "code",
   "execution_count": 118,
   "id": "b42c22e2-6871-4354-b903-02f1a8d907a5",
   "metadata": {},
   "outputs": [],
   "source": [
    "l1 = [1,2,3,5,6, \"Meena\", 4+5j,45.256,False,[5,6,8,9,12]]"
   ]
  },
  {
   "cell_type": "code",
   "execution_count": 4,
   "id": "752570e8-b51d-4b25-9ab0-630e5ae0643c",
   "metadata": {},
   "outputs": [
    {
     "data": {
      "text/plain": [
       "[1, 2, 3, 5, 6, 'Meena', (4+5j), 45.256, False, [5, 6, 8, 9, 12]]"
      ]
     },
     "execution_count": 4,
     "metadata": {},
     "output_type": "execute_result"
    }
   ],
   "source": [
    "l1"
   ]
  },
  {
   "cell_type": "code",
   "execution_count": 5,
   "id": "90b6d409-dfab-4a15-9924-e30b5b11d237",
   "metadata": {},
   "outputs": [
    {
     "data": {
      "text/plain": [
       "2"
      ]
     },
     "execution_count": 5,
     "metadata": {},
     "output_type": "execute_result"
    }
   ],
   "source": [
    "l1[1]"
   ]
  },
  {
   "cell_type": "code",
   "execution_count": 6,
   "id": "1d02b776-7d04-4e79-a6e9-af2100fa6fcd",
   "metadata": {},
   "outputs": [
    {
     "data": {
      "text/plain": [
       "[[5, 6, 8, 9, 12], False, 45.256, (4+5j), 'Meena', 6, 5, 3, 2, 1]"
      ]
     },
     "execution_count": 6,
     "metadata": {},
     "output_type": "execute_result"
    }
   ],
   "source": [
    "l1[::-1]"
   ]
  },
  {
   "cell_type": "code",
   "execution_count": 7,
   "id": "1f690182-06fe-49d9-9530-4f44d03963b3",
   "metadata": {},
   "outputs": [
    {
     "data": {
      "text/plain": [
       "8"
      ]
     },
     "execution_count": 7,
     "metadata": {},
     "output_type": "execute_result"
    }
   ],
   "source": [
    "l1[-1][2]"
   ]
  },
  {
   "cell_type": "code",
   "execution_count": 8,
   "id": "f61a66db-612d-48f9-a3b2-80a3f5f021d4",
   "metadata": {},
   "outputs": [
    {
     "data": {
      "text/plain": [
       "[1, 2, 3, 5, 6]"
      ]
     },
     "execution_count": 8,
     "metadata": {},
     "output_type": "execute_result"
    }
   ],
   "source": [
    "l1[0:5]"
   ]
  },
  {
   "cell_type": "code",
   "execution_count": 9,
   "id": "c57921b2-79b9-43b7-8630-ea0a2c5d0377",
   "metadata": {},
   "outputs": [],
   "source": [
    "l2 = [3,4,5,\"pwskills\",\"meena\"]"
   ]
  },
  {
   "cell_type": "code",
   "execution_count": 10,
   "id": "da3d42f1-ae55-4cda-ad4b-921e73f8be1c",
   "metadata": {},
   "outputs": [
    {
     "data": {
      "text/plain": [
       "[1,\n",
       " 2,\n",
       " 3,\n",
       " 5,\n",
       " 6,\n",
       " 'Meena',\n",
       " (4+5j),\n",
       " 45.256,\n",
       " False,\n",
       " [5, 6, 8, 9, 12],\n",
       " 3,\n",
       " 4,\n",
       " 5,\n",
       " 'pwskills',\n",
       " 'meena']"
      ]
     },
     "execution_count": 10,
     "metadata": {},
     "output_type": "execute_result"
    }
   ],
   "source": [
    "l1+l2"
   ]
  },
  {
   "cell_type": "code",
   "execution_count": 11,
   "id": "e9906655-922b-40bb-bf28-3f646f114541",
   "metadata": {},
   "outputs": [
    {
     "ename": "TypeError",
     "evalue": "can only concatenate list (not \"str\") to list",
     "output_type": "error",
     "traceback": [
      "\u001b[0;31m---------------------------------------------------------------------------\u001b[0m",
      "\u001b[0;31mTypeError\u001b[0m                                 Traceback (most recent call last)",
      "Cell \u001b[0;32mIn[11], line 1\u001b[0m\n\u001b[0;32m----> 1\u001b[0m \u001b[43ml2\u001b[49m\u001b[43m \u001b[49m\u001b[38;5;241;43m+\u001b[39;49m\u001b[43m \u001b[49m\u001b[38;5;124;43m\"\u001b[39;49m\u001b[38;5;124;43mmeena\u001b[39;49m\u001b[38;5;124;43m\"\u001b[39;49m\n",
      "\u001b[0;31mTypeError\u001b[0m: can only concatenate list (not \"str\") to list"
     ]
    }
   ],
   "source": [
    "l2 + \"meena\""
   ]
  },
  {
   "cell_type": "code",
   "execution_count": null,
   "id": "5a6a666a-96e0-4d90-a292-8d52f0d75c24",
   "metadata": {},
   "outputs": [],
   "source": [
    "list(\"Meena\")"
   ]
  },
  {
   "cell_type": "code",
   "execution_count": 12,
   "id": "b4ba8ba6-b2a4-4e7e-843c-8a4d72e70986",
   "metadata": {},
   "outputs": [
    {
     "data": {
      "text/plain": [
       "[3, 4, 5, 'pwskills', 'meena', 3, 4, 5, 'pwskills', 'meena']"
      ]
     },
     "execution_count": 12,
     "metadata": {},
     "output_type": "execute_result"
    }
   ],
   "source": [
    "l2*2"
   ]
  },
  {
   "cell_type": "code",
   "execution_count": 13,
   "id": "5d35db48-b8dd-48b2-96bd-eda5f533f061",
   "metadata": {},
   "outputs": [
    {
     "data": {
      "text/plain": [
       "[3, 4, 5, 'pwskills', 'meena']"
      ]
     },
     "execution_count": 13,
     "metadata": {},
     "output_type": "execute_result"
    }
   ],
   "source": [
    "l2"
   ]
  },
  {
   "cell_type": "code",
   "execution_count": 14,
   "id": "17865bbe-5b6d-4fad-918e-f7c6a8d79fe2",
   "metadata": {},
   "outputs": [
    {
     "data": {
      "text/plain": [
       "3"
      ]
     },
     "execution_count": 14,
     "metadata": {},
     "output_type": "execute_result"
    }
   ],
   "source": [
    "l2[0]"
   ]
  },
  {
   "cell_type": "code",
   "execution_count": 15,
   "id": "65c22615-ae04-4b2a-9ad5-fdd1c2ed6c81",
   "metadata": {},
   "outputs": [],
   "source": [
    "l2[0]=300       # list is mutable "
   ]
  },
  {
   "cell_type": "code",
   "execution_count": 16,
   "id": "43c78c1a-a96f-43a9-be29-c6cfa8d943aa",
   "metadata": {},
   "outputs": [
    {
     "data": {
      "text/plain": [
       "[300, 4, 5, 'pwskills', 'meena']"
      ]
     },
     "execution_count": 16,
     "metadata": {},
     "output_type": "execute_result"
    }
   ],
   "source": [
    "l2"
   ]
  },
  {
   "cell_type": "code",
   "execution_count": 17,
   "id": "61f44fa4-783d-4c23-9fa6-90628251c01f",
   "metadata": {},
   "outputs": [],
   "source": [
    "t = (1,2,3,4,5,6,\"Meena\",45.23, 5+4j, False)   #any data can be stored in tuple but it is immutable"
   ]
  },
  {
   "cell_type": "code",
   "execution_count": 18,
   "id": "df2220b3-745e-4150-aad3-b13745429c22",
   "metadata": {},
   "outputs": [
    {
     "data": {
      "text/plain": [
       "tuple"
      ]
     },
     "execution_count": 18,
     "metadata": {},
     "output_type": "execute_result"
    }
   ],
   "source": [
    "type(t)"
   ]
  },
  {
   "cell_type": "code",
   "execution_count": 19,
   "id": "ed3c00b1-4b2a-44fe-b681-0ae617d1590e",
   "metadata": {},
   "outputs": [
    {
     "data": {
      "text/plain": [
       "(False, (5+4j), 45.23, 'Meena', 6, 5, 4, 3, 2, 1)"
      ]
     },
     "execution_count": 19,
     "metadata": {},
     "output_type": "execute_result"
    }
   ],
   "source": [
    "t[::-1]"
   ]
  },
  {
   "cell_type": "code",
   "execution_count": 20,
   "id": "19c24be4-3451-4420-ba1c-99d20b66458e",
   "metadata": {},
   "outputs": [
    {
     "ename": "TypeError",
     "evalue": "'tuple' object does not support item assignment",
     "output_type": "error",
     "traceback": [
      "\u001b[0;31m---------------------------------------------------------------------------\u001b[0m",
      "\u001b[0;31mTypeError\u001b[0m                                 Traceback (most recent call last)",
      "Cell \u001b[0;32mIn[20], line 1\u001b[0m\n\u001b[0;32m----> 1\u001b[0m \u001b[43mt\u001b[49m\u001b[43m[\u001b[49m\u001b[38;5;241;43m0\u001b[39;49m\u001b[43m]\u001b[49m \u001b[38;5;241m=\u001b[39m \u001b[38;5;241m2\u001b[39m    \u001b[38;5;66;03m#tuple are immutable\u001b[39;00m\n",
      "\u001b[0;31mTypeError\u001b[0m: 'tuple' object does not support item assignment"
     ]
    }
   ],
   "source": [
    "t[0] = 2    #tuple are immutable"
   ]
  },
  {
   "cell_type": "code",
   "execution_count": 21,
   "id": "640c4cfc-0460-4e5c-ae3c-0b746026d1eb",
   "metadata": {},
   "outputs": [],
   "source": [
    "t1 = (5,6,7,8,9,2)"
   ]
  },
  {
   "cell_type": "code",
   "execution_count": 22,
   "id": "3ed48611-0823-4c2a-9d47-5b90f06f0ae7",
   "metadata": {},
   "outputs": [
    {
     "data": {
      "text/plain": [
       "(1, 2, 3, 4, 5, 6, 'Meena', 45.23, (5+4j), False, 5, 6, 7, 8, 9, 2)"
      ]
     },
     "execution_count": 22,
     "metadata": {},
     "output_type": "execute_result"
    }
   ],
   "source": [
    "t+t1 ## we can do concat in tuple"
   ]
  },
  {
   "cell_type": "code",
   "execution_count": 23,
   "id": "705c249b-74f6-4f7a-b82f-8fafc0938d33",
   "metadata": {},
   "outputs": [
    {
     "data": {
      "text/plain": [
       "(1, 2, 3, 4, 5, 6, 'Meena', 45.23, (5+4j), False)"
      ]
     },
     "execution_count": 23,
     "metadata": {},
     "output_type": "execute_result"
    }
   ],
   "source": [
    "t"
   ]
  },
  {
   "cell_type": "code",
   "execution_count": 24,
   "id": "dce42285-5fdd-462e-befb-de6393c2328b",
   "metadata": {},
   "outputs": [
    {
     "data": {
      "text/plain": [
       "[1, 2, 3, 4, 5, 6, 'Meena', 45.23, (5+4j), False]"
      ]
     },
     "execution_count": 24,
     "metadata": {},
     "output_type": "execute_result"
    }
   ],
   "source": [
    "list(t)"
   ]
  },
  {
   "cell_type": "code",
   "execution_count": 25,
   "id": "854f2edb-4cbf-4a9c-b49d-c532bb5e8320",
   "metadata": {},
   "outputs": [
    {
     "data": {
      "text/plain": [
       "[300, 4, 5, 'pwskills', 'meena']"
      ]
     },
     "execution_count": 25,
     "metadata": {},
     "output_type": "execute_result"
    }
   ],
   "source": [
    "l2"
   ]
  },
  {
   "cell_type": "code",
   "execution_count": 26,
   "id": "4755cc5f-022f-42cf-8c9a-dade52c90d84",
   "metadata": {},
   "outputs": [
    {
     "data": {
      "text/plain": [
       "(300, 4, 5, 'pwskills', 'meena')"
      ]
     },
     "execution_count": 26,
     "metadata": {},
     "output_type": "execute_result"
    }
   ],
   "source": [
    "tuple(l2)"
   ]
  },
  {
   "cell_type": "code",
   "execution_count": 27,
   "id": "2fa7858c-d9e1-45d3-adec-8fe3268b26c6",
   "metadata": {},
   "outputs": [
    {
     "data": {
      "text/plain": [
       "10"
      ]
     },
     "execution_count": 27,
     "metadata": {},
     "output_type": "execute_result"
    }
   ],
   "source": [
    "len(t)"
   ]
  },
  {
   "cell_type": "code",
   "execution_count": 28,
   "id": "d6d470ed-7de3-4166-b91b-3e3c409f77ba",
   "metadata": {},
   "outputs": [
    {
     "data": {
      "text/plain": [
       "[1, 2, 3, 5, 6, 'Meena', (4+5j), 45.256, False, [5, 6, 8, 9, 12]]"
      ]
     },
     "execution_count": 28,
     "metadata": {},
     "output_type": "execute_result"
    }
   ],
   "source": [
    "l1"
   ]
  },
  {
   "cell_type": "code",
   "execution_count": 29,
   "id": "91f01b24-6995-428d-8a76-19679035a32a",
   "metadata": {},
   "outputs": [],
   "source": [
    "s = {}"
   ]
  },
  {
   "cell_type": "code",
   "execution_count": 30,
   "id": "1c697a49-6835-457d-958b-a1d732dd8a6b",
   "metadata": {},
   "outputs": [
    {
     "data": {
      "text/plain": [
       "dict"
      ]
     },
     "execution_count": 30,
     "metadata": {},
     "output_type": "execute_result"
    }
   ],
   "source": [
    "type(s)"
   ]
  },
  {
   "cell_type": "code",
   "execution_count": 31,
   "id": "57f09e8e-e243-4e45-9126-afefa964152e",
   "metadata": {},
   "outputs": [],
   "source": [
    "s1 = {1,2,3,4,5,6,6}"
   ]
  },
  {
   "cell_type": "code",
   "execution_count": 32,
   "id": "0ad4cf97-c393-4701-a248-ea06da64f6ca",
   "metadata": {},
   "outputs": [
    {
     "data": {
      "text/plain": [
       "set"
      ]
     },
     "execution_count": 32,
     "metadata": {},
     "output_type": "execute_result"
    }
   ],
   "source": [
    "type(s1)"
   ]
  },
  {
   "cell_type": "code",
   "execution_count": 33,
   "id": "96aedd37-c209-45b0-8bc9-0811b602ef3b",
   "metadata": {},
   "outputs": [
    {
     "data": {
      "text/plain": [
       "{1, 2, 3, 4, 5, 6}"
      ]
     },
     "execution_count": 33,
     "metadata": {},
     "output_type": "execute_result"
    }
   ],
   "source": [
    "s1"
   ]
  },
  {
   "cell_type": "code",
   "execution_count": 34,
   "id": "934275ca-51ee-4a70-8265-39bb02af59dc",
   "metadata": {},
   "outputs": [],
   "source": [
    "s2 = {\"Meena\", \"meena\",\"Meena\", 15,20,13,5,6,84,5,4,5,8,17,50,8,9}"
   ]
  },
  {
   "cell_type": "code",
   "execution_count": 35,
   "id": "c6797e2e-2bdf-4219-943d-aa5938fe145d",
   "metadata": {},
   "outputs": [
    {
     "data": {
      "text/plain": [
       "{13, 15, 17, 20, 4, 5, 50, 6, 8, 84, 9, 'Meena', 'meena'}"
      ]
     },
     "execution_count": 35,
     "metadata": {},
     "output_type": "execute_result"
    }
   ],
   "source": [
    "s2"
   ]
  },
  {
   "cell_type": "code",
   "execution_count": 36,
   "id": "412e0665-b8fd-45ea-be2b-55ee6c197b5c",
   "metadata": {},
   "outputs": [
    {
     "data": {
      "text/plain": [
       "['Meena', 'meena', 4, 5, 6, 8, 9, 13, 15, 17, 50, 20, 84]"
      ]
     },
     "execution_count": 36,
     "metadata": {},
     "output_type": "execute_result"
    }
   ],
   "source": [
    "list(s2)"
   ]
  },
  {
   "cell_type": "code",
   "execution_count": 37,
   "id": "9717ad9d-1781-451e-84a4-b0128c94a9ce",
   "metadata": {},
   "outputs": [
    {
     "data": {
      "text/plain": [
       "{300, 4, 5, 'meena', 'pwskills'}"
      ]
     },
     "execution_count": 37,
     "metadata": {},
     "output_type": "execute_result"
    }
   ],
   "source": [
    "set(l2)"
   ]
  },
  {
   "cell_type": "code",
   "execution_count": 38,
   "id": "5f799e1e-1dff-4a98-a0d5-c11776930b18",
   "metadata": {},
   "outputs": [
    {
     "data": {
      "text/plain": [
       "{13, 15, 17, 20, 4, 5, 50, 6, 8, 84, 9, 'Meena', 'meena'}"
      ]
     },
     "execution_count": 38,
     "metadata": {},
     "output_type": "execute_result"
    }
   ],
   "source": [
    "s2"
   ]
  },
  {
   "cell_type": "code",
   "execution_count": 39,
   "id": "5b2a02e8-2d6d-4519-be72-78f0f078dcad",
   "metadata": {},
   "outputs": [
    {
     "ename": "TypeError",
     "evalue": "'set' object is not subscriptable",
     "output_type": "error",
     "traceback": [
      "\u001b[0;31m---------------------------------------------------------------------------\u001b[0m",
      "\u001b[0;31mTypeError\u001b[0m                                 Traceback (most recent call last)",
      "Cell \u001b[0;32mIn[39], line 1\u001b[0m\n\u001b[0;32m----> 1\u001b[0m \u001b[43ms2\u001b[49m\u001b[43m[\u001b[49m\u001b[38;5;241;43m0\u001b[39;49m\u001b[43m]\u001b[49m           \u001b[38;5;66;03m#we cannot use indexing in set and it is immutable\u001b[39;00m\n",
      "\u001b[0;31mTypeError\u001b[0m: 'set' object is not subscriptable"
     ]
    }
   ],
   "source": [
    "s2[0]           #we cannot use indexing in set and it is immutable"
   ]
  },
  {
   "cell_type": "code",
   "execution_count": 40,
   "id": "f82a280d-1845-4b61-9e3f-2bee24ca7684",
   "metadata": {},
   "outputs": [],
   "source": [
    "d = {}"
   ]
  },
  {
   "cell_type": "code",
   "execution_count": 41,
   "id": "0f772764-e372-4509-8356-557df371750a",
   "metadata": {},
   "outputs": [
    {
     "data": {
      "text/plain": [
       "dict"
      ]
     },
     "execution_count": 41,
     "metadata": {},
     "output_type": "execute_result"
    }
   ],
   "source": [
    "type(d)"
   ]
  },
  {
   "cell_type": "code",
   "execution_count": 42,
   "id": "ba24df5a-2db6-4ad5-8c43-83f65fdee65c",
   "metadata": {},
   "outputs": [],
   "source": [
    "d1 = {\"name\": \"Meenakshi\", 'Subject': [\"Data science\", \"Big data\", \"Data analystics\"], \"number\":145218763}"
   ]
  },
  {
   "cell_type": "code",
   "execution_count": 43,
   "id": "5691addb-f86d-422e-9a2e-a6a6ef16d294",
   "metadata": {},
   "outputs": [
    {
     "data": {
      "text/plain": [
       "{'name': 'Meenakshi',\n",
       " 'Subject': ['Data science', 'Big data', 'Data analystics'],\n",
       " 'number': 145218763}"
      ]
     },
     "execution_count": 43,
     "metadata": {},
     "output_type": "execute_result"
    }
   ],
   "source": [
    "d1"
   ]
  },
  {
   "cell_type": "code",
   "execution_count": 44,
   "id": "4a16ec23-c527-4760-81cb-310de14ceae7",
   "metadata": {},
   "outputs": [],
   "source": [
    "d2 = {\"name\":\"Meenakshi\", \"name\":\"pwskills\"}      ## always make your key unique"
   ]
  },
  {
   "cell_type": "code",
   "execution_count": 45,
   "id": "dbfd6525-aae4-4255-bfbf-172d130a1a52",
   "metadata": {},
   "outputs": [
    {
     "data": {
      "text/plain": [
       "{'name': 'pwskills'}"
      ]
     },
     "execution_count": 45,
     "metadata": {},
     "output_type": "execute_result"
    }
   ],
   "source": [
    "d2"
   ]
  },
  {
   "cell_type": "code",
   "execution_count": 46,
   "id": "5f4807d4-3f62-4eb1-9ed3-0a97294c6c6f",
   "metadata": {},
   "outputs": [
    {
     "ename": "TypeError",
     "evalue": "unhashable type: 'list'",
     "output_type": "error",
     "traceback": [
      "\u001b[0;31m---------------------------------------------------------------------------\u001b[0m",
      "\u001b[0;31mTypeError\u001b[0m                                 Traceback (most recent call last)",
      "Cell \u001b[0;32mIn[46], line 1\u001b[0m\n\u001b[0;32m----> 1\u001b[0m d3 \u001b[38;5;241m=\u001b[39m {[\u001b[38;5;241m1\u001b[39m,\u001b[38;5;241m2\u001b[39m,\u001b[38;5;241m3\u001b[39m,\u001b[38;5;241m5\u001b[39m,\u001b[38;5;241m6\u001b[39m]:\u001b[38;5;124m\"\u001b[39m\u001b[38;5;124mMeena\u001b[39m\u001b[38;5;124m\"\u001b[39m}\n",
      "\u001b[0;31mTypeError\u001b[0m: unhashable type: 'list'"
     ]
    }
   ],
   "source": [
    "d3 = {[1,2,3,5,6]:\"Meena\"}"
   ]
  },
  {
   "cell_type": "code",
   "execution_count": 47,
   "id": "1adb7447-1d19-4620-b0ba-800ff9889f4c",
   "metadata": {},
   "outputs": [
    {
     "ename": "TypeError",
     "evalue": "unhashable type: 'set'",
     "output_type": "error",
     "traceback": [
      "\u001b[0;31m---------------------------------------------------------------------------\u001b[0m",
      "\u001b[0;31mTypeError\u001b[0m                                 Traceback (most recent call last)",
      "Cell \u001b[0;32mIn[47], line 1\u001b[0m\n\u001b[0;32m----> 1\u001b[0m d3 \u001b[38;5;241m=\u001b[39m {{\u001b[38;5;241m1\u001b[39m,\u001b[38;5;241m2\u001b[39m,\u001b[38;5;241m3\u001b[39m,\u001b[38;5;241m5\u001b[39m,\u001b[38;5;241m6\u001b[39m}:\u001b[38;5;124m\"\u001b[39m\u001b[38;5;124mMeena\u001b[39m\u001b[38;5;124m\"\u001b[39m}\n",
      "\u001b[0;31mTypeError\u001b[0m: unhashable type: 'set'"
     ]
    }
   ],
   "source": [
    "d3 = {{1,2,3,5,6}:\"Meena\"}"
   ]
  },
  {
   "cell_type": "code",
   "execution_count": 48,
   "id": "46bd044d-0b80-4772-9c25-0a820003af41",
   "metadata": {},
   "outputs": [],
   "source": [
    "d3 = {(1,2,3,5,6):\"Meena\"} # tuple can be used for key creation but list and set cant be used"
   ]
  },
  {
   "cell_type": "code",
   "execution_count": 49,
   "id": "6b316425-c96b-41ea-8053-824a41135238",
   "metadata": {},
   "outputs": [],
   "source": [
    "d4 = {'course':['dsa','java','webdev','blockchain','cloud'],'mentor':['Sudh','Krish','vishwa','sunny'],'price':{3500,11000,15000,20000}, 'duration':1,'access year':1}"
   ]
  },
  {
   "cell_type": "code",
   "execution_count": 50,
   "id": "0fee358a-a3e2-4a0b-824d-25a2faef4a15",
   "metadata": {},
   "outputs": [
    {
     "data": {
      "text/plain": [
       "{'course': ['dsa', 'java', 'webdev', 'blockchain', 'cloud'],\n",
       " 'mentor': ['Sudh', 'Krish', 'vishwa', 'sunny'],\n",
       " 'price': {3500, 11000, 15000, 20000},\n",
       " 'duration': 1,\n",
       " 'access year': 1}"
      ]
     },
     "execution_count": 50,
     "metadata": {},
     "output_type": "execute_result"
    }
   ],
   "source": [
    "d4"
   ]
  },
  {
   "cell_type": "code",
   "execution_count": 51,
   "id": "86ba4c8a-242f-4e2c-99ef-252c6cf9898a",
   "metadata": {},
   "outputs": [
    {
     "data": {
      "text/plain": [
       "['dsa', 'java', 'webdev', 'blockchain', 'cloud']"
      ]
     },
     "execution_count": 51,
     "metadata": {},
     "output_type": "execute_result"
    }
   ],
   "source": [
    "d4['course']"
   ]
  },
  {
   "cell_type": "code",
   "execution_count": 52,
   "id": "bc3aade8-456d-40a6-9367-6a3632186457",
   "metadata": {},
   "outputs": [
    {
     "data": {
      "text/plain": [
       "'webdev'"
      ]
     },
     "execution_count": 52,
     "metadata": {},
     "output_type": "execute_result"
    }
   ],
   "source": [
    "d4['course'][2]"
   ]
  },
  {
   "cell_type": "code",
   "execution_count": 53,
   "id": "e75b8d6e-c185-4200-bcf3-b871fddeb2ef",
   "metadata": {},
   "outputs": [
    {
     "data": {
      "text/plain": [
       "['Sudh', 'Krish', 'vishwa', 'sunny']"
      ]
     },
     "execution_count": 53,
     "metadata": {},
     "output_type": "execute_result"
    }
   ],
   "source": [
    "d4['mentor']"
   ]
  },
  {
   "cell_type": "code",
   "execution_count": 54,
   "id": "23ef91e0-dd76-4af5-894a-8342bf3e9a17",
   "metadata": {},
   "outputs": [
    {
     "data": {
      "text/plain": [
       "{3500, 11000, 15000, 20000}"
      ]
     },
     "execution_count": 54,
     "metadata": {},
     "output_type": "execute_result"
    }
   ],
   "source": [
    "d4['price']"
   ]
  },
  {
   "cell_type": "code",
   "execution_count": 55,
   "id": "29160901-9320-47bb-9714-01658ef166ea",
   "metadata": {},
   "outputs": [],
   "source": [
    "d5 = {'course':['dsa','java','webdev','blockchain','cloud'],'mentor':['Sudh','Krish','vishwa','sunny'],'price':{3500,11000,15000,20000}, 'duration':1,'access year':1, 'syllabus':{'python':['core python','oops','pandas','numpy','db','mongodb'], 'ML':['supervised','unsupervised','semisupervised']}}"
   ]
  },
  {
   "cell_type": "code",
   "execution_count": 56,
   "id": "bbafdfa6-90ec-4a1d-9b63-095a0ae2b7e4",
   "metadata": {},
   "outputs": [
    {
     "data": {
      "text/plain": [
       "{'course': ['dsa', 'java', 'webdev', 'blockchain', 'cloud'],\n",
       " 'mentor': ['Sudh', 'Krish', 'vishwa', 'sunny'],\n",
       " 'price': {3500, 11000, 15000, 20000},\n",
       " 'duration': 1,\n",
       " 'access year': 1,\n",
       " 'syllabus': {'python': ['core python',\n",
       "   'oops',\n",
       "   'pandas',\n",
       "   'numpy',\n",
       "   'db',\n",
       "   'mongodb'],\n",
       "  'ML': ['supervised', 'unsupervised', 'semisupervised']}}"
      ]
     },
     "execution_count": 56,
     "metadata": {},
     "output_type": "execute_result"
    }
   ],
   "source": [
    "d5     ## nested key values can be created"
   ]
  },
  {
   "cell_type": "code",
   "execution_count": 57,
   "id": "c54637f7-c3e8-4157-8fa4-26196c512c3f",
   "metadata": {},
   "outputs": [
    {
     "data": {
      "text/plain": [
       "{'name': 'pwskills'}"
      ]
     },
     "execution_count": 57,
     "metadata": {},
     "output_type": "execute_result"
    }
   ],
   "source": [
    "d2"
   ]
  },
  {
   "cell_type": "code",
   "execution_count": 58,
   "id": "de287a0e-a4a0-43bb-ae1f-03b49d80ed1f",
   "metadata": {},
   "outputs": [],
   "source": [
    "d2['phone number'] = 1254689325"
   ]
  },
  {
   "cell_type": "code",
   "execution_count": 59,
   "id": "ee8df57e-c6a2-4af4-b72c-765d7cc6ecc9",
   "metadata": {},
   "outputs": [
    {
     "data": {
      "text/plain": [
       "{'name': 'pwskills', 'phone number': 1254689325}"
      ]
     },
     "execution_count": 59,
     "metadata": {},
     "output_type": "execute_result"
    }
   ],
   "source": [
    "d2"
   ]
  },
  {
   "cell_type": "code",
   "execution_count": 60,
   "id": "cd460b25-bcdd-40c5-8cf3-6f9eac307ae4",
   "metadata": {},
   "outputs": [],
   "source": [
    "d2['name'] = 'Meenakshi'"
   ]
  },
  {
   "cell_type": "code",
   "execution_count": 61,
   "id": "816f032d-41fa-47fb-aced-46e9509c7887",
   "metadata": {},
   "outputs": [
    {
     "data": {
      "text/plain": [
       "{'name': 'Meenakshi', 'phone number': 1254689325}"
      ]
     },
     "execution_count": 61,
     "metadata": {},
     "output_type": "execute_result"
    }
   ],
   "source": [
    "d2"
   ]
  },
  {
   "cell_type": "code",
   "execution_count": 62,
   "id": "bfc3090c-a65b-4446-9ca0-dc0a6e0adbc7",
   "metadata": {},
   "outputs": [
    {
     "data": {
      "text/plain": [
       "{1, 2, 3, 4, 5, 6}"
      ]
     },
     "execution_count": 62,
     "metadata": {},
     "output_type": "execute_result"
    }
   ],
   "source": [
    "s1"
   ]
  },
  {
   "cell_type": "code",
   "execution_count": 63,
   "id": "ee1e9825-da7a-4133-bc6c-34e452bf092d",
   "metadata": {},
   "outputs": [],
   "source": [
    "a1 = \"Meena\""
   ]
  },
  {
   "cell_type": "code",
   "execution_count": 64,
   "id": "541e597d-31b1-4c66-965a-fcf9dbf2fabd",
   "metadata": {},
   "outputs": [
    {
     "data": {
      "text/plain": [
       "2"
      ]
     },
     "execution_count": 64,
     "metadata": {},
     "output_type": "execute_result"
    }
   ],
   "source": [
    "a1.count('e')"
   ]
  },
  {
   "cell_type": "code",
   "execution_count": 65,
   "id": "e3c71d95-5c79-4ca4-baa9-ca6688394d8e",
   "metadata": {},
   "outputs": [
    {
     "data": {
      "text/plain": [
       "4"
      ]
     },
     "execution_count": 65,
     "metadata": {},
     "output_type": "execute_result"
    }
   ],
   "source": [
    "a1.find('a')"
   ]
  },
  {
   "cell_type": "code",
   "execution_count": 66,
   "id": "2246a7e1-3fbb-4d3c-bc24-a721276ee8d7",
   "metadata": {},
   "outputs": [
    {
     "data": {
      "text/plain": [
       "-1"
      ]
     },
     "execution_count": 66,
     "metadata": {},
     "output_type": "execute_result"
    }
   ],
   "source": [
    "a1.find('z')"
   ]
  },
  {
   "cell_type": "code",
   "execution_count": 67,
   "id": "c92a9705-cf01-4911-b113-c6ceec201587",
   "metadata": {},
   "outputs": [
    {
     "data": {
      "text/plain": [
       "4"
      ]
     },
     "execution_count": 67,
     "metadata": {},
     "output_type": "execute_result"
    }
   ],
   "source": [
    "a1.index('a')"
   ]
  },
  {
   "cell_type": "code",
   "execution_count": 68,
   "id": "f1ffe374-c360-4188-94bf-d86cb33e2cfc",
   "metadata": {},
   "outputs": [
    {
     "ename": "ValueError",
     "evalue": "substring not found",
     "output_type": "error",
     "traceback": [
      "\u001b[0;31m---------------------------------------------------------------------------\u001b[0m",
      "\u001b[0;31mValueError\u001b[0m                                Traceback (most recent call last)",
      "Cell \u001b[0;32mIn[68], line 1\u001b[0m\n\u001b[0;32m----> 1\u001b[0m \u001b[43ma1\u001b[49m\u001b[38;5;241;43m.\u001b[39;49m\u001b[43mindex\u001b[49m\u001b[43m(\u001b[49m\u001b[38;5;124;43m'\u001b[39;49m\u001b[38;5;124;43mz\u001b[39;49m\u001b[38;5;124;43m'\u001b[39;49m\u001b[43m)\u001b[49m\n",
      "\u001b[0;31mValueError\u001b[0m: substring not found"
     ]
    }
   ],
   "source": [
    "a1.index('z')"
   ]
  },
  {
   "cell_type": "code",
   "execution_count": 69,
   "id": "740254ce-995a-4f5a-9914-1d7adc26e1b0",
   "metadata": {},
   "outputs": [],
   "source": [
    "##find function will work even when the element is not on the string. It will return -1 but for index it will show error of the element is not on the string. Also, both are used for index"
   ]
  },
  {
   "cell_type": "code",
   "execution_count": 70,
   "id": "6ca789fe-5c64-4c4f-9a77-a8134be977b1",
   "metadata": {},
   "outputs": [],
   "source": [
    "b = \"My name is Meenakshi\""
   ]
  },
  {
   "cell_type": "code",
   "execution_count": 71,
   "id": "5e4c00d9-a2cd-4dfa-93d4-82c1f76df48e",
   "metadata": {},
   "outputs": [
    {
     "data": {
      "text/plain": [
       "'My Name Is Meenakshi'"
      ]
     },
     "execution_count": 71,
     "metadata": {},
     "output_type": "execute_result"
    }
   ],
   "source": [
    "b.title()"
   ]
  },
  {
   "cell_type": "code",
   "execution_count": 72,
   "id": "8632d577-e39e-40ee-9357-06df49842b01",
   "metadata": {},
   "outputs": [
    {
     "data": {
      "text/plain": [
       "'MY NAME IS MEENAKSHI'"
      ]
     },
     "execution_count": 72,
     "metadata": {},
     "output_type": "execute_result"
    }
   ],
   "source": [
    "b.upper()"
   ]
  },
  {
   "cell_type": "code",
   "execution_count": 73,
   "id": "75af1daf-6653-4df1-804c-8f866c86e1e7",
   "metadata": {},
   "outputs": [
    {
     "data": {
      "text/plain": [
       "'my name is meenakshi'"
      ]
     },
     "execution_count": 73,
     "metadata": {},
     "output_type": "execute_result"
    }
   ],
   "source": [
    "b.lower()"
   ]
  },
  {
   "cell_type": "code",
   "execution_count": 74,
   "id": "efdf677c-24ac-4e3d-8e3e-514616ec3c66",
   "metadata": {},
   "outputs": [
    {
     "data": {
      "text/plain": [
       "['My', 'name', 'is', 'Meenakshi']"
      ]
     },
     "execution_count": 74,
     "metadata": {},
     "output_type": "execute_result"
    }
   ],
   "source": [
    "b.split()"
   ]
  },
  {
   "cell_type": "code",
   "execution_count": 75,
   "id": "1edfecdc-1c12-4f4d-9932-f3e5b5c2d408",
   "metadata": {},
   "outputs": [],
   "source": [
    "c = \"my name,is,meenakshi\""
   ]
  },
  {
   "cell_type": "code",
   "execution_count": 76,
   "id": "1e2fb263-1d93-4c31-a898-30479bb73a61",
   "metadata": {},
   "outputs": [
    {
     "data": {
      "text/plain": [
       "['my name', 'is', 'meenakshi']"
      ]
     },
     "execution_count": 76,
     "metadata": {},
     "output_type": "execute_result"
    }
   ],
   "source": [
    "c.split(',')"
   ]
  },
  {
   "cell_type": "code",
   "execution_count": 77,
   "id": "9088c5c2-6250-4e4d-803a-784769448fce",
   "metadata": {},
   "outputs": [
    {
     "data": {
      "text/plain": [
       "'my name'"
      ]
     },
     "execution_count": 77,
     "metadata": {},
     "output_type": "execute_result"
    }
   ],
   "source": [
    "c.split(',')[0]"
   ]
  },
  {
   "cell_type": "code",
   "execution_count": 78,
   "id": "f65f0c46-aa50-409a-bdb8-b723988db556",
   "metadata": {},
   "outputs": [
    {
     "data": {
      "text/plain": [
       "'meenakshi'"
      ]
     },
     "execution_count": 78,
     "metadata": {},
     "output_type": "execute_result"
    }
   ],
   "source": [
    "c.split(',')[2]"
   ]
  },
  {
   "cell_type": "code",
   "execution_count": 79,
   "id": "a2f3be22-a285-4f9c-a040-4a1cc8bfcd8e",
   "metadata": {},
   "outputs": [
    {
     "data": {
      "text/plain": [
       "'My name,is,meenakshi'"
      ]
     },
     "execution_count": 79,
     "metadata": {},
     "output_type": "execute_result"
    }
   ],
   "source": [
    "c.capitalize()"
   ]
  },
  {
   "cell_type": "code",
   "execution_count": 80,
   "id": "302e2b64-ff9d-43d6-a8cd-85e5efcb2019",
   "metadata": {},
   "outputs": [
    {
     "data": {
      "text/plain": [
       "'My name is meenakshi'"
      ]
     },
     "execution_count": 80,
     "metadata": {},
     "output_type": "execute_result"
    }
   ],
   "source": [
    "b.capitalize()"
   ]
  },
  {
   "cell_type": "code",
   "execution_count": 81,
   "id": "2a95aed6-ba24-48ba-8a4a-7d292e4b7ced",
   "metadata": {},
   "outputs": [
    {
     "data": {
      "text/plain": [
       "'my name,is,meenakshi'"
      ]
     },
     "execution_count": 81,
     "metadata": {},
     "output_type": "execute_result"
    }
   ],
   "source": [
    "c"
   ]
  },
  {
   "cell_type": "code",
   "execution_count": 82,
   "id": "821a70d9-c72e-446b-9947-44841e670331",
   "metadata": {},
   "outputs": [
    {
     "data": {
      "text/plain": [
       "'my name is meenakshi'"
      ]
     },
     "execution_count": 82,
     "metadata": {},
     "output_type": "execute_result"
    }
   ],
   "source": [
    "c.replace(',', ' ')"
   ]
  },
  {
   "cell_type": "code",
   "execution_count": 83,
   "id": "7e773e50-23d3-424a-ac81-42f9d2c85588",
   "metadata": {},
   "outputs": [
    {
     "data": {
      "text/plain": [
       "'My name is Meenakshi'"
      ]
     },
     "execution_count": 83,
     "metadata": {},
     "output_type": "execute_result"
    }
   ],
   "source": [
    "b"
   ]
  },
  {
   "cell_type": "code",
   "execution_count": 84,
   "id": "5e9646aa-b09f-4643-bdb9-2743a369e9bd",
   "metadata": {},
   "outputs": [
    {
     "data": {
      "text/plain": [
       "'My naNe is Meenakshi'"
      ]
     },
     "execution_count": 84,
     "metadata": {},
     "output_type": "execute_result"
    }
   ],
   "source": [
    "b.replace('m','N')"
   ]
  },
  {
   "cell_type": "code",
   "execution_count": 85,
   "id": "9dff2850-4317-4bac-9fda-92e678a763f9",
   "metadata": {},
   "outputs": [
    {
     "data": {
      "text/plain": [
       "'**********My name is Meenakshi**********'"
      ]
     },
     "execution_count": 85,
     "metadata": {},
     "output_type": "execute_result"
    }
   ],
   "source": [
    "b.center(40, '*')"
   ]
  },
  {
   "cell_type": "code",
   "execution_count": 86,
   "id": "b1da5c0f-d46a-4c56-ba46-3b05bf303c03",
   "metadata": {},
   "outputs": [
    {
     "data": {
      "text/plain": [
       "'My name is Meenakshi'"
      ]
     },
     "execution_count": 86,
     "metadata": {},
     "output_type": "execute_result"
    }
   ],
   "source": [
    "b.rstrip()"
   ]
  },
  {
   "cell_type": "code",
   "execution_count": 87,
   "id": "35428d4f-5852-47ae-9b51-c7604e537a5a",
   "metadata": {},
   "outputs": [],
   "source": [
    "d = '                   PWSKILLS        '"
   ]
  },
  {
   "cell_type": "code",
   "execution_count": 88,
   "id": "8321c940-2f6a-4641-9bd0-2a587ec61598",
   "metadata": {},
   "outputs": [
    {
     "data": {
      "text/plain": [
       "'                   PWSKILLS'"
      ]
     },
     "execution_count": 88,
     "metadata": {},
     "output_type": "execute_result"
    }
   ],
   "source": [
    "d.rstrip()"
   ]
  },
  {
   "cell_type": "code",
   "execution_count": 89,
   "id": "dc7adff1-09f4-4655-aaac-5bbbdcd0f246",
   "metadata": {},
   "outputs": [
    {
     "data": {
      "text/plain": [
       "'PWSKILLS        '"
      ]
     },
     "execution_count": 89,
     "metadata": {},
     "output_type": "execute_result"
    }
   ],
   "source": [
    "d.lstrip()"
   ]
  },
  {
   "cell_type": "code",
   "execution_count": 90,
   "id": "5f814c8b-eb1c-458b-aee4-91884032dffd",
   "metadata": {},
   "outputs": [
    {
     "data": {
      "text/plain": [
       "'PWSKILLS'"
      ]
     },
     "execution_count": 90,
     "metadata": {},
     "output_type": "execute_result"
    }
   ],
   "source": [
    "d.strip()"
   ]
  },
  {
   "cell_type": "code",
   "execution_count": 91,
   "id": "75a5d9d3-0a4e-4369-b231-c8dd66c273c5",
   "metadata": {},
   "outputs": [
    {
     "data": {
      "text/plain": [
       "False"
      ]
     },
     "execution_count": 91,
     "metadata": {},
     "output_type": "execute_result"
    }
   ],
   "source": [
    "d.isalpha()"
   ]
  },
  {
   "cell_type": "code",
   "execution_count": 92,
   "id": "c7a106b6-1751-40e4-9dca-fb6ece0d6519",
   "metadata": {},
   "outputs": [
    {
     "data": {
      "text/plain": [
       "False"
      ]
     },
     "execution_count": 92,
     "metadata": {},
     "output_type": "execute_result"
    }
   ],
   "source": [
    "d.islower()"
   ]
  },
  {
   "cell_type": "code",
   "execution_count": 93,
   "id": "17cc7d70-5b20-4017-adae-fd0583fafe6c",
   "metadata": {},
   "outputs": [
    {
     "data": {
      "text/plain": [
       "[1, 2, 3, 5, 6, 'Meena', (4+5j), 45.256, False, [5, 6, 8, 9, 12]]"
      ]
     },
     "execution_count": 93,
     "metadata": {},
     "output_type": "execute_result"
    }
   ],
   "source": [
    "l1"
   ]
  },
  {
   "cell_type": "code",
   "execution_count": 94,
   "id": "f38714bf-1f44-49e4-9131-6cd6016ed73c",
   "metadata": {},
   "outputs": [
    {
     "data": {
      "text/plain": [
       "[300, 4, 5, 'pwskills', 'meena']"
      ]
     },
     "execution_count": 94,
     "metadata": {},
     "output_type": "execute_result"
    }
   ],
   "source": [
    "l2"
   ]
  },
  {
   "cell_type": "code",
   "execution_count": 97,
   "id": "4af8a7de-5a0d-4f32-a1d5-a2d20b3314ca",
   "metadata": {},
   "outputs": [],
   "source": [
    "l1.append('Lal')    ##append will add data at the end"
   ]
  },
  {
   "cell_type": "code",
   "execution_count": 98,
   "id": "eb3729de-e009-432a-8ac4-565f2759dec9",
   "metadata": {},
   "outputs": [
    {
     "data": {
      "text/plain": [
       "[1, 2, 3, 5, 6, 'Meena', (4+5j), 45.256, False, [5, 6, 8, 9, 12], 'Lal', 'Lal']"
      ]
     },
     "execution_count": 98,
     "metadata": {},
     "output_type": "execute_result"
    }
   ],
   "source": [
    "l1"
   ]
  },
  {
   "cell_type": "code",
   "execution_count": 101,
   "id": "64d32537-ee22-431b-a519-0cafa9e09d83",
   "metadata": {},
   "outputs": [],
   "source": [
    "l1.insert(3,'PWSkills')  #adds the entry at our desired index"
   ]
  },
  {
   "cell_type": "code",
   "execution_count": 102,
   "id": "4d59a76f-49ce-490b-9f07-376849bdede0",
   "metadata": {},
   "outputs": [
    {
     "data": {
      "text/plain": [
       "[1,\n",
       " 2,\n",
       " 3,\n",
       " 'PWSkills',\n",
       " 'PWSkills',\n",
       " 5,\n",
       " 6,\n",
       " 'Meena',\n",
       " (4+5j),\n",
       " 45.256,\n",
       " False,\n",
       " [5, 6, 8, 9, 12],\n",
       " 'Lal',\n",
       " 'Lal']"
      ]
     },
     "execution_count": 102,
     "metadata": {},
     "output_type": "execute_result"
    }
   ],
   "source": [
    "l1"
   ]
  },
  {
   "cell_type": "code",
   "execution_count": 103,
   "id": "47f6d614-56a5-4ab5-acdc-4283b8535e3f",
   "metadata": {},
   "outputs": [],
   "source": [
    "l2.extend('sudh')       #extend performs split and adds entities at the end"
   ]
  },
  {
   "cell_type": "code",
   "execution_count": 104,
   "id": "a6c45f09-8d4c-4bdb-bab2-7858f5f8c9a1",
   "metadata": {},
   "outputs": [
    {
     "data": {
      "text/plain": [
       "[300, 4, 5, 'pwskills', 'meena', 's', 'u', 'd', 'h']"
      ]
     },
     "execution_count": 104,
     "metadata": {},
     "output_type": "execute_result"
    }
   ],
   "source": [
    "l2"
   ]
  },
  {
   "cell_type": "code",
   "execution_count": 107,
   "id": "360cc673-4221-42ed-ae77-967cca4a15df",
   "metadata": {},
   "outputs": [
    {
     "data": {
      "text/plain": [
       "'d'"
      ]
     },
     "execution_count": 107,
     "metadata": {},
     "output_type": "execute_result"
    }
   ],
   "source": [
    "l2.pop() #it removes data from last index if index is not mentioned"
   ]
  },
  {
   "cell_type": "code",
   "execution_count": 108,
   "id": "16f37cdd-321f-4f59-8cf8-c1a4eb89ac44",
   "metadata": {},
   "outputs": [
    {
     "data": {
      "text/plain": [
       "300"
      ]
     },
     "execution_count": 108,
     "metadata": {},
     "output_type": "execute_result"
    }
   ],
   "source": [
    "l2.pop(0)"
   ]
  },
  {
   "cell_type": "code",
   "execution_count": 109,
   "id": "a8038eb4-9f3b-4498-9ad6-d3132461b1fe",
   "metadata": {},
   "outputs": [
    {
     "data": {
      "text/plain": [
       "[4, 5, 'pwskills', 'meena', 's', 'u']"
      ]
     },
     "execution_count": 109,
     "metadata": {},
     "output_type": "execute_result"
    }
   ],
   "source": [
    "l2"
   ]
  },
  {
   "cell_type": "code",
   "execution_count": 110,
   "id": "40eb3fa0-bff5-4213-80a8-c4c40c5b35d0",
   "metadata": {},
   "outputs": [],
   "source": [
    "del l2  #it will delete the entire entity i have created"
   ]
  },
  {
   "cell_type": "code",
   "execution_count": 111,
   "id": "8c5728fb-1e91-49c6-a8ac-7703430c1d57",
   "metadata": {},
   "outputs": [
    {
     "ename": "NameError",
     "evalue": "name 'l2' is not defined",
     "output_type": "error",
     "traceback": [
      "\u001b[0;31m---------------------------------------------------------------------------\u001b[0m",
      "\u001b[0;31mNameError\u001b[0m                                 Traceback (most recent call last)",
      "Cell \u001b[0;32mIn[111], line 1\u001b[0m\n\u001b[0;32m----> 1\u001b[0m \u001b[43ml2\u001b[49m\n",
      "\u001b[0;31mNameError\u001b[0m: name 'l2' is not defined"
     ]
    }
   ],
   "source": [
    "l2"
   ]
  },
  {
   "cell_type": "code",
   "execution_count": 112,
   "id": "40c68d00-837c-4358-94fc-0ab5834f2740",
   "metadata": {},
   "outputs": [
    {
     "data": {
      "text/plain": [
       "[1,\n",
       " 2,\n",
       " 3,\n",
       " 'PWSkills',\n",
       " 'PWSkills',\n",
       " 5,\n",
       " 6,\n",
       " 'Meena',\n",
       " (4+5j),\n",
       " 45.256,\n",
       " False,\n",
       " [5, 6, 8, 9, 12],\n",
       " 'Lal',\n",
       " 'Lal']"
      ]
     },
     "execution_count": 112,
     "metadata": {},
     "output_type": "execute_result"
    }
   ],
   "source": [
    "l1"
   ]
  },
  {
   "cell_type": "code",
   "execution_count": 113,
   "id": "89977516-e359-43b0-8c8d-4e7904c91b1e",
   "metadata": {},
   "outputs": [],
   "source": [
    "l1.remove('Lal') ##it will delete the first occorrances"
   ]
  },
  {
   "cell_type": "code",
   "execution_count": 114,
   "id": "e1d1cf2f-39e6-4475-adbf-c6aa6eb9dc08",
   "metadata": {},
   "outputs": [
    {
     "data": {
      "text/plain": [
       "[1,\n",
       " 2,\n",
       " 3,\n",
       " 'PWSkills',\n",
       " 'PWSkills',\n",
       " 5,\n",
       " 6,\n",
       " 'Meena',\n",
       " (4+5j),\n",
       " 45.256,\n",
       " False,\n",
       " [5, 6, 8, 9, 12],\n",
       " 'Lal']"
      ]
     },
     "execution_count": 114,
     "metadata": {},
     "output_type": "execute_result"
    }
   ],
   "source": [
    "l1"
   ]
  },
  {
   "cell_type": "code",
   "execution_count": 115,
   "id": "acdf87d2-c0f7-401f-84cc-ff529e7d14e3",
   "metadata": {},
   "outputs": [
    {
     "ename": "IndexError",
     "evalue": "pop index out of range",
     "output_type": "error",
     "traceback": [
      "\u001b[0;31m---------------------------------------------------------------------------\u001b[0m",
      "\u001b[0;31mIndexError\u001b[0m                                Traceback (most recent call last)",
      "Cell \u001b[0;32mIn[115], line 1\u001b[0m\n\u001b[0;32m----> 1\u001b[0m \u001b[43ml1\u001b[49m\u001b[38;5;241;43m.\u001b[39;49m\u001b[43mpop\u001b[49m\u001b[43m(\u001b[49m\u001b[38;5;241;43m1000\u001b[39;49m\u001b[43m)\u001b[49m\n",
      "\u001b[0;31mIndexError\u001b[0m: pop index out of range"
     ]
    }
   ],
   "source": [
    "l1.pop(1000)"
   ]
  },
  {
   "cell_type": "code",
   "execution_count": 116,
   "id": "54057786-2518-4773-80aa-39f41c208f5f",
   "metadata": {},
   "outputs": [],
   "source": [
    "l1.clear()"
   ]
  },
  {
   "cell_type": "code",
   "execution_count": 117,
   "id": "e1e44461-ca11-48c1-88c9-ce35f84e0a2f",
   "metadata": {},
   "outputs": [
    {
     "data": {
      "text/plain": [
       "[]"
      ]
     },
     "execution_count": 117,
     "metadata": {},
     "output_type": "execute_result"
    }
   ],
   "source": [
    "l1"
   ]
  },
  {
   "cell_type": "code",
   "execution_count": 124,
   "id": "9b36b108-bee5-466c-9096-52971e2f2757",
   "metadata": {},
   "outputs": [
    {
     "data": {
      "text/plain": [
       "1"
      ]
     },
     "execution_count": 124,
     "metadata": {},
     "output_type": "execute_result"
    }
   ],
   "source": [
    "l1.count(3)"
   ]
  },
  {
   "cell_type": "code",
   "execution_count": 122,
   "id": "af63df77-4232-495f-9de2-0bde296a1ef7",
   "metadata": {},
   "outputs": [
    {
     "data": {
      "text/plain": [
       "[1, 2, 3, 5, 6, 'Meena', (4+5j), 45.256, False, [5, 6, 8, 9, 12]]"
      ]
     },
     "execution_count": 122,
     "metadata": {},
     "output_type": "execute_result"
    }
   ],
   "source": [
    "l1"
   ]
  },
  {
   "cell_type": "code",
   "execution_count": 125,
   "id": "bdcc031c-5694-420a-8914-2c679d745d43",
   "metadata": {},
   "outputs": [],
   "source": [
    "l1.reverse()"
   ]
  },
  {
   "cell_type": "code",
   "execution_count": 126,
   "id": "705118fb-bec2-4ad2-8240-e901addf6fa7",
   "metadata": {},
   "outputs": [
    {
     "data": {
      "text/plain": [
       "[[5, 6, 8, 9, 12], False, 45.256, (4+5j), 'Meena', 6, 5, 3, 2, 1]"
      ]
     },
     "execution_count": 126,
     "metadata": {},
     "output_type": "execute_result"
    }
   ],
   "source": [
    "l1"
   ]
  },
  {
   "cell_type": "code",
   "execution_count": 128,
   "id": "c8d7a73d-1285-4d48-84f9-4e67c58793bb",
   "metadata": {},
   "outputs": [],
   "source": [
    "l3 = [2,5,6,3,4,8,5,5,85,0,12,45,2,1]"
   ]
  },
  {
   "cell_type": "code",
   "execution_count": 129,
   "id": "07c165e8-05b4-4e09-ad9a-d4392d1f7ae8",
   "metadata": {},
   "outputs": [],
   "source": [
    "l3.sort()"
   ]
  },
  {
   "cell_type": "code",
   "execution_count": 130,
   "id": "797a305d-0a18-4883-a6ec-d941ad63f50d",
   "metadata": {},
   "outputs": [
    {
     "data": {
      "text/plain": [
       "[0, 1, 2, 2, 3, 4, 5, 5, 5, 6, 8, 12, 45, 85]"
      ]
     },
     "execution_count": 130,
     "metadata": {},
     "output_type": "execute_result"
    }
   ],
   "source": [
    "l3"
   ]
  },
  {
   "cell_type": "code",
   "execution_count": 131,
   "id": "750b661d-eb0f-4336-b8c5-6877a20c67ab",
   "metadata": {},
   "outputs": [],
   "source": [
    "l3.sort(reverse=True)"
   ]
  },
  {
   "cell_type": "code",
   "execution_count": 132,
   "id": "151f29a7-2019-4fe7-ba55-0aea375719e6",
   "metadata": {},
   "outputs": [
    {
     "data": {
      "text/plain": [
       "[85, 45, 12, 8, 6, 5, 5, 5, 4, 3, 2, 2, 1, 0]"
      ]
     },
     "execution_count": 132,
     "metadata": {},
     "output_type": "execute_result"
    }
   ],
   "source": [
    "l3"
   ]
  },
  {
   "cell_type": "code",
   "execution_count": 133,
   "id": "144d98f0-f71d-4f98-b97b-2f59ef1a3f21",
   "metadata": {},
   "outputs": [],
   "source": [
    "#Deep copy and shallow copy"
   ]
  },
  {
   "cell_type": "code",
   "execution_count": 134,
   "id": "d63f9371-2cca-47ea-85e4-682f6e61b5d3",
   "metadata": {},
   "outputs": [],
   "source": [
    "l0=[2,3,4,5]"
   ]
  },
  {
   "cell_type": "code",
   "execution_count": 147,
   "id": "49100f95-7832-4665-a88a-3a3643b3aebc",
   "metadata": {},
   "outputs": [],
   "source": [
    "l1 = l0     #both are in same space. new space is not created.  SWALLOW COPY"
   ]
  },
  {
   "cell_type": "code",
   "execution_count": 136,
   "id": "7cbe7c13-d758-42f0-94de-cfd8a8520b44",
   "metadata": {},
   "outputs": [
    {
     "data": {
      "text/plain": [
       "[2, 3, 4, 5]"
      ]
     },
     "execution_count": 136,
     "metadata": {},
     "output_type": "execute_result"
    }
   ],
   "source": [
    "l1"
   ]
  },
  {
   "cell_type": "code",
   "execution_count": 137,
   "id": "1fbc4aee-6de0-48f1-b4d7-b067cd9a00c3",
   "metadata": {},
   "outputs": [],
   "source": [
    "l0[0]=200"
   ]
  },
  {
   "cell_type": "code",
   "execution_count": 138,
   "id": "dd3dafb4-9258-4a40-92f4-720f17644313",
   "metadata": {},
   "outputs": [
    {
     "data": {
      "text/plain": [
       "[200, 3, 4, 5]"
      ]
     },
     "execution_count": 138,
     "metadata": {},
     "output_type": "execute_result"
    }
   ],
   "source": [
    "l0"
   ]
  },
  {
   "cell_type": "code",
   "execution_count": 139,
   "id": "295ba834-ef5b-46f8-a326-6971ce14bb3f",
   "metadata": {},
   "outputs": [
    {
     "data": {
      "text/plain": [
       "[200, 3, 4, 5]"
      ]
     },
     "execution_count": 139,
     "metadata": {},
     "output_type": "execute_result"
    }
   ],
   "source": [
    "l1"
   ]
  },
  {
   "cell_type": "code",
   "execution_count": 146,
   "id": "12b954b0-8c59-42b3-9512-cbeb2bae4045",
   "metadata": {},
   "outputs": [],
   "source": [
    "l2 = l0.copy()    #this will create new space and any changes to initial container will not be reflected in the new container  ###DEEP COPY"
   ]
  },
  {
   "cell_type": "code",
   "execution_count": 141,
   "id": "4d979110-f41f-4b6c-9570-ec9c356ad118",
   "metadata": {},
   "outputs": [
    {
     "data": {
      "text/plain": [
       "[200, 3, 4, 5]"
      ]
     },
     "execution_count": 141,
     "metadata": {},
     "output_type": "execute_result"
    }
   ],
   "source": [
    "l2"
   ]
  },
  {
   "cell_type": "code",
   "execution_count": 142,
   "id": "886f6f3a-0872-4dca-8326-4c857aa9c81a",
   "metadata": {},
   "outputs": [],
   "source": [
    "l0[0]= 300"
   ]
  },
  {
   "cell_type": "code",
   "execution_count": 143,
   "id": "b09ad813-e89f-48f8-b787-29166b246de8",
   "metadata": {},
   "outputs": [
    {
     "data": {
      "text/plain": [
       "[300, 3, 4, 5]"
      ]
     },
     "execution_count": 143,
     "metadata": {},
     "output_type": "execute_result"
    }
   ],
   "source": [
    "l0"
   ]
  },
  {
   "cell_type": "code",
   "execution_count": 144,
   "id": "adf8c9e6-0a0c-4b4f-b1ab-634d274bd84e",
   "metadata": {},
   "outputs": [
    {
     "data": {
      "text/plain": [
       "[300, 3, 4, 5]"
      ]
     },
     "execution_count": 144,
     "metadata": {},
     "output_type": "execute_result"
    }
   ],
   "source": [
    "l1"
   ]
  },
  {
   "cell_type": "code",
   "execution_count": 145,
   "id": "d5ba97a0-490d-474b-bc5b-9067be2f1f51",
   "metadata": {},
   "outputs": [
    {
     "data": {
      "text/plain": [
       "[200, 3, 4, 5]"
      ]
     },
     "execution_count": 145,
     "metadata": {},
     "output_type": "execute_result"
    }
   ],
   "source": [
    "l2"
   ]
  },
  {
   "cell_type": "code",
   "execution_count": 148,
   "id": "bcb1acd8-df4e-45c2-b626-05cd0a43dfe8",
   "metadata": {},
   "outputs": [
    {
     "data": {
      "text/plain": [
       "(1, 2, 3, 4, 5, 6, 'Meena', 45.23, (5+4j), False)"
      ]
     },
     "execution_count": 148,
     "metadata": {},
     "output_type": "execute_result"
    }
   ],
   "source": [
    "t"
   ]
  },
  {
   "cell_type": "code",
   "execution_count": 149,
   "id": "d222aeb3-ad06-4c07-8f68-40d6c713a9b7",
   "metadata": {},
   "outputs": [
    {
     "data": {
      "text/plain": [
       "1"
      ]
     },
     "execution_count": 149,
     "metadata": {},
     "output_type": "execute_result"
    }
   ],
   "source": [
    "t.count(4)"
   ]
  },
  {
   "cell_type": "code",
   "execution_count": 150,
   "id": "3194873f-2393-49e2-aa00-095d760d58eb",
   "metadata": {},
   "outputs": [
    {
     "data": {
      "text/plain": [
       "6"
      ]
     },
     "execution_count": 150,
     "metadata": {},
     "output_type": "execute_result"
    }
   ],
   "source": [
    "t.index(\"Meena\")"
   ]
  },
  {
   "cell_type": "code",
   "execution_count": 151,
   "id": "fe607ad6-3c46-4dd3-acdf-3d6ea6c19185",
   "metadata": {},
   "outputs": [],
   "source": [
    "s = {2,5,8,6,4,8,9,3,'meena','sdhgvfj'}"
   ]
  },
  {
   "cell_type": "code",
   "execution_count": 152,
   "id": "3b6cd120-f0a3-443d-b341-f9c69f5c5da0",
   "metadata": {},
   "outputs": [],
   "source": [
    "s.add(2563)"
   ]
  },
  {
   "cell_type": "code",
   "execution_count": 153,
   "id": "d59315d2-e31e-42ae-a6d7-72dd89456be6",
   "metadata": {},
   "outputs": [
    {
     "data": {
      "text/plain": [
       "{2, 2563, 3, 4, 5, 6, 8, 9, 'meena', 'sdhgvfj'}"
      ]
     },
     "execution_count": 153,
     "metadata": {},
     "output_type": "execute_result"
    }
   ],
   "source": [
    "s"
   ]
  },
  {
   "cell_type": "code",
   "execution_count": 154,
   "id": "2821e9fd-dec9-4e55-a28e-fc6b0e2f9b46",
   "metadata": {},
   "outputs": [],
   "source": [
    "s.discard(2)"
   ]
  },
  {
   "cell_type": "code",
   "execution_count": 155,
   "id": "139558f3-b0ad-4cc2-8670-9f13d976519c",
   "metadata": {},
   "outputs": [
    {
     "data": {
      "text/plain": [
       "{2563, 3, 4, 5, 6, 8, 9, 'meena', 'sdhgvfj'}"
      ]
     },
     "execution_count": 155,
     "metadata": {},
     "output_type": "execute_result"
    }
   ],
   "source": [
    "s"
   ]
  },
  {
   "cell_type": "code",
   "execution_count": 156,
   "id": "6f103aab-fef0-445b-a554-694a169106a3",
   "metadata": {},
   "outputs": [],
   "source": [
    "s.remove(2563)"
   ]
  },
  {
   "cell_type": "code",
   "execution_count": 157,
   "id": "33fdc265-4437-4656-9ae7-f2b6ee98ab1d",
   "metadata": {},
   "outputs": [
    {
     "data": {
      "text/plain": [
       "{3, 4, 5, 6, 8, 9, 'meena', 'sdhgvfj'}"
      ]
     },
     "execution_count": 157,
     "metadata": {},
     "output_type": "execute_result"
    }
   ],
   "source": [
    "s"
   ]
  },
  {
   "cell_type": "code",
   "execution_count": 158,
   "id": "ca603c37-b1f4-4c45-8497-e31ac2294de9",
   "metadata": {},
   "outputs": [
    {
     "data": {
      "text/plain": [
       "{'name': 'Meenakshi',\n",
       " 'Subject': ['Data science', 'Big data', 'Data analystics'],\n",
       " 'number': 145218763}"
      ]
     },
     "execution_count": 158,
     "metadata": {},
     "output_type": "execute_result"
    }
   ],
   "source": [
    "d1"
   ]
  },
  {
   "cell_type": "code",
   "execution_count": 159,
   "id": "021fa2c7-a71f-4be9-ba73-50aee43c3f25",
   "metadata": {},
   "outputs": [
    {
     "data": {
      "text/plain": [
       "dict_keys(['name', 'Subject', 'number'])"
      ]
     },
     "execution_count": 159,
     "metadata": {},
     "output_type": "execute_result"
    }
   ],
   "source": [
    "d1.keys()"
   ]
  },
  {
   "cell_type": "code",
   "execution_count": 160,
   "id": "39dc43d5-36da-4b2f-9923-281886dd4c17",
   "metadata": {},
   "outputs": [
    {
     "data": {
      "text/plain": [
       "dict_values(['Meenakshi', ['Data science', 'Big data', 'Data analystics'], 145218763])"
      ]
     },
     "execution_count": 160,
     "metadata": {},
     "output_type": "execute_result"
    }
   ],
   "source": [
    "d1.values()"
   ]
  },
  {
   "cell_type": "code",
   "execution_count": 161,
   "id": "1c01e8b8-f36c-4619-8dee-a91b1abd67eb",
   "metadata": {},
   "outputs": [
    {
     "data": {
      "text/plain": [
       "dict_items([('name', 'Meenakshi'), ('Subject', ['Data science', 'Big data', 'Data analystics']), ('number', 145218763)])"
      ]
     },
     "execution_count": 161,
     "metadata": {},
     "output_type": "execute_result"
    }
   ],
   "source": [
    "d1.items()"
   ]
  },
  {
   "cell_type": "code",
   "execution_count": 162,
   "id": "cda4b00d-0638-4ff7-9e61-3456e6d5e3dc",
   "metadata": {},
   "outputs": [
    {
     "data": {
      "text/plain": [
       "['Data science', 'Big data', 'Data analystics']"
      ]
     },
     "execution_count": 162,
     "metadata": {},
     "output_type": "execute_result"
    }
   ],
   "source": [
    "d1.get('Subject')"
   ]
  },
  {
   "cell_type": "code",
   "execution_count": 163,
   "id": "0622d734-f590-49d1-8c21-721ed7912f77",
   "metadata": {},
   "outputs": [
    {
     "data": {
      "text/plain": [
       "'Meenakshi'"
      ]
     },
     "execution_count": 163,
     "metadata": {},
     "output_type": "execute_result"
    }
   ],
   "source": [
    "d1.pop('name')"
   ]
  },
  {
   "cell_type": "code",
   "execution_count": 164,
   "id": "3fad995a-4dfe-4b09-8b4b-94c31ed9d5fd",
   "metadata": {},
   "outputs": [
    {
     "data": {
      "text/plain": [
       "{'Subject': ['Data science', 'Big data', 'Data analystics'],\n",
       " 'number': 145218763}"
      ]
     },
     "execution_count": 164,
     "metadata": {},
     "output_type": "execute_result"
    }
   ],
   "source": [
    "d1"
   ]
  },
  {
   "cell_type": "code",
   "execution_count": 165,
   "id": "b25cb907-fc4d-4d2b-9494-593b4152bf1f",
   "metadata": {},
   "outputs": [],
   "source": [
    "a = 1"
   ]
  },
  {
   "cell_type": "code",
   "execution_count": 166,
   "id": "d460739f-d7bd-4823-a07b-405a22e1a4a0",
   "metadata": {},
   "outputs": [
    {
     "data": {
      "text/plain": [
       "int"
      ]
     },
     "execution_count": 166,
     "metadata": {},
     "output_type": "execute_result"
    }
   ],
   "source": [
    "type(a)"
   ]
  },
  {
   "cell_type": "code",
   "execution_count": null,
   "id": "345982d8-33ef-4db4-b284-981369e95114",
   "metadata": {},
   "outputs": [],
   "source": [
    "s."
   ]
  }
 ],
 "metadata": {
  "kernelspec": {
   "display_name": "Python 3 (ipykernel)",
   "language": "python",
   "name": "python3"
  },
  "language_info": {
   "codemirror_mode": {
    "name": "ipython",
    "version": 3
   },
   "file_extension": ".py",
   "mimetype": "text/x-python",
   "name": "python",
   "nbconvert_exporter": "python",
   "pygments_lexer": "ipython3",
   "version": "3.10.8"
  }
 },
 "nbformat": 4,
 "nbformat_minor": 5
}
