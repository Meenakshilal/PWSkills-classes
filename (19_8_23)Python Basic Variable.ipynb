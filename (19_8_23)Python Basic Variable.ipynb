{
 "cells": [
  {
   "cell_type": "markdown",
   "id": "acde90d0-ce3f-44c0-b74a-36f725e412c7",
   "metadata": {},
   "source": [
    "Python Variable"
   ]
  },
  {
   "cell_type": "markdown",
   "id": "d01bec65-384d-4939-a4a8-6c08322e45a6",
   "metadata": {},
   "source": [
    "place holder where I can keep variety of data"
   ]
  },
  {
   "cell_type": "code",
   "execution_count": 1,
   "id": "6b5fef06-b427-487f-bf6d-c537974e35f1",
   "metadata": {},
   "outputs": [],
   "source": [
    "a=10"
   ]
  },
  {
   "cell_type": "code",
   "execution_count": 2,
   "id": "5c92b519-0405-4a20-8b06-43c0e66de6ae",
   "metadata": {},
   "outputs": [],
   "source": [
    "Meena = 124563"
   ]
  },
  {
   "cell_type": "code",
   "execution_count": 4,
   "id": "fa83e7f5-9ed6-44c8-bea0-d672478e2c26",
   "metadata": {},
   "outputs": [],
   "source": [
    "b = 12.356863"
   ]
  },
  {
   "cell_type": "code",
   "execution_count": 3,
   "id": "1403973a-c84d-4d3e-b678-b1cae5856a12",
   "metadata": {},
   "outputs": [
    {
     "data": {
      "text/plain": [
       "int"
      ]
     },
     "execution_count": 3,
     "metadata": {},
     "output_type": "execute_result"
    }
   ],
   "source": [
    "type(Meena)"
   ]
  },
  {
   "cell_type": "code",
   "execution_count": 5,
   "id": "8ac57d1d-3685-452a-be60-2ceee87bc0f9",
   "metadata": {},
   "outputs": [
    {
     "data": {
      "text/plain": [
       "float"
      ]
     },
     "execution_count": 5,
     "metadata": {},
     "output_type": "execute_result"
    }
   ],
   "source": [
    "type(b)"
   ]
  },
  {
   "cell_type": "code",
   "execution_count": 6,
   "id": "c28aeb86-63ec-477b-86f2-9cf5134b1ce2",
   "metadata": {},
   "outputs": [],
   "source": [
    "c = True"
   ]
  },
  {
   "cell_type": "code",
   "execution_count": 7,
   "id": "c3b94271-1786-4b76-9400-a5c00899ed1e",
   "metadata": {},
   "outputs": [
    {
     "data": {
      "text/plain": [
       "bool"
      ]
     },
     "execution_count": 7,
     "metadata": {},
     "output_type": "execute_result"
    }
   ],
   "source": [
    "type(c)"
   ]
  },
  {
   "cell_type": "code",
   "execution_count": 8,
   "id": "6ba6e5c0-5cd0-4708-9b2c-4320fa40a79d",
   "metadata": {},
   "outputs": [],
   "source": [
    "d = 'Meena'"
   ]
  },
  {
   "cell_type": "code",
   "execution_count": 9,
   "id": "f43349eb-e654-4779-9409-e87014977bdd",
   "metadata": {},
   "outputs": [
    {
     "data": {
      "text/plain": [
       "str"
      ]
     },
     "execution_count": 9,
     "metadata": {},
     "output_type": "execute_result"
    }
   ],
   "source": [
    "type(d)"
   ]
  },
  {
   "cell_type": "code",
   "execution_count": 10,
   "id": "cb247939-3b33-426f-91cd-c8c16dcccb8f",
   "metadata": {},
   "outputs": [],
   "source": [
    "e = 6+5j"
   ]
  },
  {
   "cell_type": "code",
   "execution_count": 11,
   "id": "13de929b-017b-42d1-869f-e0a44a77385d",
   "metadata": {},
   "outputs": [
    {
     "data": {
      "text/plain": [
       "complex"
      ]
     },
     "execution_count": 11,
     "metadata": {},
     "output_type": "execute_result"
    }
   ],
   "source": [
    "type(e)"
   ]
  },
  {
   "cell_type": "code",
   "execution_count": 12,
   "id": "9d137844-2de0-44a9-9498-51e1d9a70ae7",
   "metadata": {},
   "outputs": [
    {
     "data": {
      "text/plain": [
       "(6+5j)"
      ]
     },
     "execution_count": 12,
     "metadata": {},
     "output_type": "execute_result"
    }
   ],
   "source": [
    "e"
   ]
  },
  {
   "cell_type": "code",
   "execution_count": 13,
   "id": "fcfd21ab-35af-4fdf-ba2b-a3efe8f39cb3",
   "metadata": {},
   "outputs": [
    {
     "data": {
      "text/plain": [
       "6.0"
      ]
     },
     "execution_count": 13,
     "metadata": {},
     "output_type": "execute_result"
    }
   ],
   "source": [
    "e.real"
   ]
  },
  {
   "cell_type": "code",
   "execution_count": 14,
   "id": "0b729b3b-f6e2-42a2-940b-339ad1c5786b",
   "metadata": {},
   "outputs": [
    {
     "data": {
      "text/plain": [
       "5.0"
      ]
     },
     "execution_count": 14,
     "metadata": {},
     "output_type": "execute_result"
    }
   ],
   "source": [
    "e.imag"
   ]
  },
  {
   "cell_type": "code",
   "execution_count": 15,
   "id": "2c21342e-e939-42e6-864e-42a3609f4151",
   "metadata": {},
   "outputs": [
    {
     "data": {
      "text/plain": [
       "79"
      ]
     },
     "execution_count": 15,
     "metadata": {},
     "output_type": "execute_result"
    }
   ],
   "source": [
    "a1=45\n",
    "a2=34\n",
    "a1+a2"
   ]
  },
  {
   "cell_type": "code",
   "execution_count": 16,
   "id": "c5457dbe-d154-4a05-b026-8e5d101deecd",
   "metadata": {},
   "outputs": [
    {
     "data": {
      "text/plain": [
       "1530"
      ]
     },
     "execution_count": 16,
     "metadata": {},
     "output_type": "execute_result"
    }
   ],
   "source": [
    "a1*a2"
   ]
  },
  {
   "cell_type": "code",
   "execution_count": 17,
   "id": "6d8b0426-1aa1-4cc4-b776-549cea0ee0b2",
   "metadata": {},
   "outputs": [
    {
     "data": {
      "text/plain": [
       "1.3235294117647058"
      ]
     },
     "execution_count": 17,
     "metadata": {},
     "output_type": "execute_result"
    }
   ],
   "source": [
    "a1/a2"
   ]
  },
  {
   "cell_type": "code",
   "execution_count": 18,
   "id": "9f9f8740-8b49-414a-b245-590ea0a48a8a",
   "metadata": {},
   "outputs": [
    {
     "data": {
      "text/plain": [
       "11"
      ]
     },
     "execution_count": 18,
     "metadata": {},
     "output_type": "execute_result"
    }
   ],
   "source": [
    "a1-a2"
   ]
  },
  {
   "cell_type": "code",
   "execution_count": 19,
   "id": "ac9bab0d-e666-4f6f-9558-4f2041006ff9",
   "metadata": {},
   "outputs": [],
   "source": [
    "a1, a2 = 34, 45"
   ]
  },
  {
   "cell_type": "code",
   "execution_count": 20,
   "id": "fc2bbd9d-6c7d-41e1-922a-fd77fdc96750",
   "metadata": {},
   "outputs": [],
   "source": [
    "a,b,c,d = 123, 'Meena',124.26, False"
   ]
  },
  {
   "cell_type": "code",
   "execution_count": 22,
   "id": "6c2510f2-1b62-44bc-a8b3-719c2d2c2e4b",
   "metadata": {},
   "outputs": [
    {
     "name": "stdout",
     "output_type": "stream",
     "text": [
      "123\n",
      "Meena\n",
      "124.26\n",
      "False\n"
     ]
    }
   ],
   "source": [
    "print (a)\n",
    "print (b)\n",
    "print (c)\n",
    "print (d)"
   ]
  },
  {
   "cell_type": "code",
   "execution_count": 1,
   "id": "c5bf6306-25cf-4972-8a3d-80397789e596",
   "metadata": {},
   "outputs": [],
   "source": [
    "b1 = True\n",
    "b2 = False"
   ]
  },
  {
   "cell_type": "code",
   "execution_count": 2,
   "id": "7e0fa7f0-645f-4511-a34c-8c3bb7a59932",
   "metadata": {},
   "outputs": [
    {
     "data": {
      "text/plain": [
       "1"
      ]
     },
     "execution_count": 2,
     "metadata": {},
     "output_type": "execute_result"
    }
   ],
   "source": [
    "b1-b2"
   ]
  },
  {
   "cell_type": "code",
   "execution_count": 3,
   "id": "7c497cf9-d98b-4f8e-a3f4-e4a376e02972",
   "metadata": {},
   "outputs": [
    {
     "ename": "ZeroDivisionError",
     "evalue": "division by zero",
     "output_type": "error",
     "traceback": [
      "\u001b[0;31m---------------------------------------------------------------------------\u001b[0m",
      "\u001b[0;31mZeroDivisionError\u001b[0m                         Traceback (most recent call last)",
      "Cell \u001b[0;32mIn[3], line 1\u001b[0m\n\u001b[0;32m----> 1\u001b[0m \u001b[43mb1\u001b[49m\u001b[38;5;241;43m/\u001b[39;49m\u001b[43mb2\u001b[49m\n",
      "\u001b[0;31mZeroDivisionError\u001b[0m: division by zero"
     ]
    }
   ],
   "source": [
    "b1/b2"
   ]
  },
  {
   "cell_type": "code",
   "execution_count": 5,
   "id": "d54ab6a4-bead-4c48-a867-22f925bafc31",
   "metadata": {},
   "outputs": [],
   "source": [
    "s1 = 'My name is Meena'"
   ]
  },
  {
   "cell_type": "code",
   "execution_count": 6,
   "id": "09845f95-1b4f-4934-916b-35c11abdcc32",
   "metadata": {},
   "outputs": [
    {
     "data": {
      "text/plain": [
       "str"
      ]
     },
     "execution_count": 6,
     "metadata": {},
     "output_type": "execute_result"
    }
   ],
   "source": [
    "type(s1)"
   ]
  },
  {
   "cell_type": "code",
   "execution_count": 9,
   "id": "6da46d6c-2de0-47ff-a4cf-ac6fac53c1d9",
   "metadata": {},
   "outputs": [],
   "source": [
    "s2 = \"This is my first python class for data science master's\""
   ]
  },
  {
   "cell_type": "code",
   "execution_count": 10,
   "id": "851b39ac-bf28-4cf2-876d-43a3a4bad322",
   "metadata": {},
   "outputs": [
    {
     "data": {
      "text/plain": [
       "\"This is my first python class for data science master's\""
      ]
     },
     "execution_count": 10,
     "metadata": {},
     "output_type": "execute_result"
    }
   ],
   "source": [
    "s2"
   ]
  },
  {
   "cell_type": "code",
   "execution_count": 13,
   "id": "59b03112-8bf3-47fe-a566-7667a84fa004",
   "metadata": {},
   "outputs": [],
   "source": [
    "s3 = 'This is my first python class for data science master\"s'"
   ]
  },
  {
   "cell_type": "code",
   "execution_count": 14,
   "id": "252b8913-b07d-4ba3-b972-3505cf341e51",
   "metadata": {},
   "outputs": [
    {
     "data": {
      "text/plain": [
       "'This is my first python class for data science master\"s'"
      ]
     },
     "execution_count": 14,
     "metadata": {},
     "output_type": "execute_result"
    }
   ],
   "source": [
    "s3"
   ]
  },
  {
   "cell_type": "code",
   "execution_count": 17,
   "id": "e42322d9-a0e6-49db-bd0a-5270a44b5c4a",
   "metadata": {},
   "outputs": [],
   "source": [
    "##This is my code to create a string variable with quotes\n",
    "\n",
    "s3 = 'This is my first python class for data science master\"s'"
   ]
  },
  {
   "cell_type": "code",
   "execution_count": 18,
   "id": "7c8d651f-c223-4802-9b4d-435ce0fcc8ab",
   "metadata": {},
   "outputs": [
    {
     "data": {
      "text/plain": [
       "'This is my first python class\\nI am trying to learn variable declaration\\nso far i have learbt int, boolean, string, complex numbers and float variable'"
      ]
     },
     "execution_count": 18,
     "metadata": {},
     "output_type": "execute_result"
    }
   ],
   "source": [
    "'''This is my first python class\n",
    "I am trying to learn variable declaration\n",
    "so far i have learbt int, boolean, string, complex numbers and float variable'''"
   ]
  },
  {
   "cell_type": "code",
   "execution_count": 1,
   "id": "1d28e74a-1055-4861-b997-8da8cf33a1e4",
   "metadata": {},
   "outputs": [],
   "source": [
    " s1 = 'Meena'"
   ]
  },
  {
   "cell_type": "code",
   "execution_count": 2,
   "id": "9fcc678b-b5ed-4ad6-9e64-d781374c0c6c",
   "metadata": {},
   "outputs": [],
   "source": [
    "a = 10"
   ]
  },
  {
   "cell_type": "code",
   "execution_count": 3,
   "id": "ffc53c4b-3d85-4bf7-ac96-51addc0c5dee",
   "metadata": {},
   "outputs": [
    {
     "ename": "TypeError",
     "evalue": "can only concatenate str (not \"int\") to str",
     "output_type": "error",
     "traceback": [
      "\u001b[0;31m---------------------------------------------------------------------------\u001b[0m",
      "\u001b[0;31mTypeError\u001b[0m                                 Traceback (most recent call last)",
      "Cell \u001b[0;32mIn[3], line 1\u001b[0m\n\u001b[0;32m----> 1\u001b[0m \u001b[43ms1\u001b[49m\u001b[43m \u001b[49m\u001b[38;5;241;43m+\u001b[39;49m\u001b[43m \u001b[49m\u001b[43ma\u001b[49m\n",
      "\u001b[0;31mTypeError\u001b[0m: can only concatenate str (not \"int\") to str"
     ]
    }
   ],
   "source": [
    "s1 + a"
   ]
  },
  {
   "cell_type": "code",
   "execution_count": 4,
   "id": "48ddc482-5e24-4b3f-a1cd-2522f95e323c",
   "metadata": {},
   "outputs": [],
   "source": [
    "b = 'lal'"
   ]
  },
  {
   "cell_type": "code",
   "execution_count": 5,
   "id": "72f71abb-4c85-45f7-b252-577b74c0e04e",
   "metadata": {},
   "outputs": [
    {
     "data": {
      "text/plain": [
       "'Meenalal'"
      ]
     },
     "execution_count": 5,
     "metadata": {},
     "output_type": "execute_result"
    }
   ],
   "source": [
    "s1 + b"
   ]
  },
  {
   "cell_type": "code",
   "execution_count": 6,
   "id": "b4a1666f-6ee7-48aa-b1f4-9fabd902d87d",
   "metadata": {},
   "outputs": [
    {
     "data": {
      "text/plain": [
       "int"
      ]
     },
     "execution_count": 6,
     "metadata": {},
     "output_type": "execute_result"
    }
   ],
   "source": [
    "type(a)"
   ]
  },
  {
   "cell_type": "code",
   "execution_count": 9,
   "id": "e80f2d3f-dfe1-4517-88b8-a95a069e8201",
   "metadata": {},
   "outputs": [],
   "source": [
    "a = str(a)"
   ]
  },
  {
   "cell_type": "code",
   "execution_count": 10,
   "id": "d12b8262-d61c-4dd4-9e40-99c5282dd1e3",
   "metadata": {},
   "outputs": [
    {
     "data": {
      "text/plain": [
       "str"
      ]
     },
     "execution_count": 10,
     "metadata": {},
     "output_type": "execute_result"
    }
   ],
   "source": [
    "type(a)"
   ]
  },
  {
   "cell_type": "code",
   "execution_count": 11,
   "id": "df922b0e-392d-45d3-81e7-ffebb3dfd15f",
   "metadata": {},
   "outputs": [
    {
     "data": {
      "text/plain": [
       "'Meena10'"
      ]
     },
     "execution_count": 11,
     "metadata": {},
     "output_type": "execute_result"
    }
   ],
   "source": [
    "s1+a"
   ]
  },
  {
   "cell_type": "code",
   "execution_count": 12,
   "id": "7b7ed657-77f3-40e0-a42b-8e8343c67e1d",
   "metadata": {},
   "outputs": [],
   "source": [
    "s = 'sudh'"
   ]
  },
  {
   "cell_type": "code",
   "execution_count": 13,
   "id": "226cd7bf-4f2a-4625-8e53-eaa88b05cce1",
   "metadata": {},
   "outputs": [
    {
     "ename": "ValueError",
     "evalue": "invalid literal for int() with base 10: 'sudh'",
     "output_type": "error",
     "traceback": [
      "\u001b[0;31m---------------------------------------------------------------------------\u001b[0m",
      "\u001b[0;31mValueError\u001b[0m                                Traceback (most recent call last)",
      "Cell \u001b[0;32mIn[13], line 1\u001b[0m\n\u001b[0;32m----> 1\u001b[0m \u001b[38;5;28;43mint\u001b[39;49m\u001b[43m(\u001b[49m\u001b[43ms\u001b[49m\u001b[43m)\u001b[49m\n",
      "\u001b[0;31mValueError\u001b[0m: invalid literal for int() with base 10: 'sudh'"
     ]
    }
   ],
   "source": [
    "int(s)"
   ]
  },
  {
   "cell_type": "code",
   "execution_count": 14,
   "id": "e511259f-eec8-4f0f-a59d-6455668e759f",
   "metadata": {},
   "outputs": [
    {
     "name": "stdin",
     "output_type": "stream",
     "text": [
      " 24563\n"
     ]
    }
   ],
   "source": [
    "a = input()          #input will always give string"
   ]
  },
  {
   "cell_type": "code",
   "execution_count": 15,
   "id": "3059e60b-3484-4b59-b8b0-86541d86226d",
   "metadata": {},
   "outputs": [
    {
     "data": {
      "text/plain": [
       "'24563'"
      ]
     },
     "execution_count": 15,
     "metadata": {},
     "output_type": "execute_result"
    }
   ],
   "source": [
    "a"
   ]
  },
  {
   "cell_type": "code",
   "execution_count": 16,
   "id": "a018240f-9c35-4571-996a-7e81149194ec",
   "metadata": {},
   "outputs": [
    {
     "data": {
      "text/plain": [
       "str"
      ]
     },
     "execution_count": 16,
     "metadata": {},
     "output_type": "execute_result"
    }
   ],
   "source": [
    "type(a)"
   ]
  },
  {
   "cell_type": "code",
   "execution_count": 17,
   "id": "e2c41782-2736-4f6c-805b-1eca45112688",
   "metadata": {},
   "outputs": [
    {
     "name": "stdin",
     "output_type": "stream",
     "text": [
      " 15236\n"
     ]
    }
   ],
   "source": [
    "b = int(input())    ## typecasting will be needed to change the type"
   ]
  },
  {
   "cell_type": "code",
   "execution_count": 18,
   "id": "29adf475-f220-4208-807a-8fe8e87eb7cf",
   "metadata": {},
   "outputs": [
    {
     "data": {
      "text/plain": [
       "int"
      ]
     },
     "execution_count": 18,
     "metadata": {},
     "output_type": "execute_result"
    }
   ],
   "source": [
    "type(b)"
   ]
  },
  {
   "cell_type": "code",
   "execution_count": 19,
   "id": "407323b2-7ecd-495d-a0ca-9c4df1f5a045",
   "metadata": {},
   "outputs": [],
   "source": [
    "s = \"Meena\""
   ]
  },
  {
   "cell_type": "code",
   "execution_count": 20,
   "id": "fc69df42-16ba-45ef-9b2c-3b089e807ee4",
   "metadata": {},
   "outputs": [
    {
     "data": {
      "text/plain": [
       "'M'"
      ]
     },
     "execution_count": 20,
     "metadata": {},
     "output_type": "execute_result"
    }
   ],
   "source": [
    "s[0]"
   ]
  },
  {
   "cell_type": "code",
   "execution_count": 21,
   "id": "703cd4b6-6d66-4a95-bf7d-35f2e72a37df",
   "metadata": {},
   "outputs": [
    {
     "data": {
      "text/plain": [
       "'a'"
      ]
     },
     "execution_count": 21,
     "metadata": {},
     "output_type": "execute_result"
    }
   ],
   "source": [
    "s[-1]"
   ]
  },
  {
   "cell_type": "code",
   "execution_count": 22,
   "id": "2728a92a-9184-4b41-9060-c09969215575",
   "metadata": {},
   "outputs": [
    {
     "ename": "IndexError",
     "evalue": "string index out of range",
     "output_type": "error",
     "traceback": [
      "\u001b[0;31m---------------------------------------------------------------------------\u001b[0m",
      "\u001b[0;31mIndexError\u001b[0m                                Traceback (most recent call last)",
      "Cell \u001b[0;32mIn[22], line 1\u001b[0m\n\u001b[0;32m----> 1\u001b[0m \u001b[43ms\u001b[49m\u001b[43m[\u001b[49m\u001b[38;5;241;43m100\u001b[39;49m\u001b[43m]\u001b[49m\n",
      "\u001b[0;31mIndexError\u001b[0m: string index out of range"
     ]
    }
   ],
   "source": [
    "s[100]"
   ]
  },
  {
   "cell_type": "code",
   "execution_count": 2,
   "id": "813bb5e5-4201-4ee6-b32c-c57056a90963",
   "metadata": {},
   "outputs": [],
   "source": [
    "s1 = \"pwskills\"   ####Slicing operation"
   ]
  },
  {
   "cell_type": "code",
   "execution_count": 3,
   "id": "3759671c-2575-463b-9c68-86625c0044c2",
   "metadata": {},
   "outputs": [
    {
     "data": {
      "text/plain": [
       "'pw'"
      ]
     },
     "execution_count": 3,
     "metadata": {},
     "output_type": "execute_result"
    }
   ],
   "source": [
    "s1[0:2:1]"
   ]
  },
  {
   "cell_type": "code",
   "execution_count": 4,
   "id": "0b66a4c0-4283-43c0-8342-2382fbb3c8a4",
   "metadata": {},
   "outputs": [
    {
     "data": {
      "text/plain": [
       "'skill'"
      ]
     },
     "execution_count": 4,
     "metadata": {},
     "output_type": "execute_result"
    }
   ],
   "source": [
    "s1[2:-1]"
   ]
  },
  {
   "cell_type": "code",
   "execution_count": 5,
   "id": "fc73bc3c-f62f-4b04-8add-b4729d0f29e6",
   "metadata": {},
   "outputs": [
    {
     "data": {
      "text/plain": [
       "'skills'"
      ]
     },
     "execution_count": 5,
     "metadata": {},
     "output_type": "execute_result"
    }
   ],
   "source": [
    "s1[2:8]"
   ]
  },
  {
   "cell_type": "code",
   "execution_count": 6,
   "id": "b3d1963e-3878-4762-ae84-d7f785ef295d",
   "metadata": {},
   "outputs": [
    {
     "data": {
      "text/plain": [
       "'psil'"
      ]
     },
     "execution_count": 6,
     "metadata": {},
     "output_type": "execute_result"
    }
   ],
   "source": [
    "s1[0:8:2]"
   ]
  },
  {
   "cell_type": "code",
   "execution_count": 7,
   "id": "d1917fc5-c100-40bf-ba08-371a1928e012",
   "metadata": {},
   "outputs": [
    {
     "data": {
      "text/plain": [
       "'sllikswp'"
      ]
     },
     "execution_count": 7,
     "metadata": {},
     "output_type": "execute_result"
    }
   ],
   "source": [
    "s1[-1::-1]"
   ]
  },
  {
   "cell_type": "code",
   "execution_count": 8,
   "id": "155cbfac-d6f0-4ef1-bdfa-c159678ae71b",
   "metadata": {},
   "outputs": [
    {
     "data": {
      "text/plain": [
       "'slli'"
      ]
     },
     "execution_count": 8,
     "metadata": {},
     "output_type": "execute_result"
    }
   ],
   "source": [
    "s1[-1:-5:-1]"
   ]
  },
  {
   "cell_type": "code",
   "execution_count": 9,
   "id": "db9ba03e-8f3a-49a1-906a-be00eccecf2f",
   "metadata": {},
   "outputs": [
    {
     "data": {
      "text/plain": [
       "'slli'"
      ]
     },
     "execution_count": 9,
     "metadata": {},
     "output_type": "execute_result"
    }
   ],
   "source": [
    "s1[7:3:-1]"
   ]
  },
  {
   "cell_type": "code",
   "execution_count": 10,
   "id": "6d441303-b47b-48d0-be42-bc2b40beb9fb",
   "metadata": {},
   "outputs": [
    {
     "data": {
      "text/plain": [
       "'sllikswp'"
      ]
     },
     "execution_count": 10,
     "metadata": {},
     "output_type": "execute_result"
    }
   ],
   "source": [
    "s1[::-1]"
   ]
  },
  {
   "cell_type": "code",
   "execution_count": 11,
   "id": "48f3954e-552c-44db-b118-de2a819a5471",
   "metadata": {},
   "outputs": [
    {
     "data": {
      "text/plain": [
       "'p'"
      ]
     },
     "execution_count": 11,
     "metadata": {},
     "output_type": "execute_result"
    }
   ],
   "source": [
    " s1[0]"
   ]
  },
  {
   "cell_type": "code",
   "execution_count": 15,
   "id": "3ffba9b3-c213-4f82-82e2-9aa9d71d95ad",
   "metadata": {},
   "outputs": [],
   "source": [
    "a = 10"
   ]
  },
  {
   "cell_type": "code",
   "execution_count": 16,
   "id": "f5e453fc-5eca-4007-9823-a1cfeba9625f",
   "metadata": {},
   "outputs": [
    {
     "ename": "TypeError",
     "evalue": "'str' object does not support item assignment",
     "output_type": "error",
     "traceback": [
      "\u001b[0;31m---------------------------------------------------------------------------\u001b[0m",
      "\u001b[0;31mTypeError\u001b[0m                                 Traceback (most recent call last)",
      "Cell \u001b[0;32mIn[16], line 1\u001b[0m\n\u001b[0;32m----> 1\u001b[0m \u001b[43ms1\u001b[49m\u001b[43m[\u001b[49m\u001b[38;5;241;43m0\u001b[39;49m\u001b[43m]\u001b[49m \u001b[38;5;241m=\u001b[39m a\n",
      "\u001b[0;31mTypeError\u001b[0m: 'str' object does not support item assignment"
     ]
    }
   ],
   "source": [
    "s1[0] = a    #String is immutable"
   ]
  },
  {
   "cell_type": "code",
   "execution_count": 17,
   "id": "cb146fa1-823c-4f6a-9851-275f45f738de",
   "metadata": {},
   "outputs": [
    {
     "name": "stdout",
     "output_type": "stream",
     "text": [
      "World\n"
     ]
    }
   ],
   "source": [
    "message = \"Hello, World!\"\n",
    "\n",
    "print(message[-6:-1])"
   ]
  },
  {
   "cell_type": "code",
   "execution_count": 18,
   "id": "14acc539-b8bd-4f6e-bdd7-09cc8a847da0",
   "metadata": {},
   "outputs": [
    {
     "name": "stdout",
     "output_type": "stream",
     "text": [
      "Python\n"
     ]
    }
   ],
   "source": [
    "word = \"python\"\n",
    "\n",
    "capitalized_word = word.capitalize()\n",
    "\n",
    "print(capitalized_word)"
   ]
  },
  {
   "cell_type": "code",
   "execution_count": 19,
   "id": "59c4cf4e-c861-477b-a91d-3e3ac20ad7a8",
   "metadata": {},
   "outputs": [
    {
     "name": "stdout",
     "output_type": "stream",
     "text": [
      "Hello, World!\n"
     ]
    }
   ],
   "source": [
    "text = \"   Hello, World!   \"\n",
    "\n",
    "trimmed_text = text.strip()\n",
    "\n",
    "print(trimmed_text)"
   ]
  },
  {
   "cell_type": "code",
   "execution_count": null,
   "id": "94ee2551-727e-41ce-a80e-a51119064eb0",
   "metadata": {},
   "outputs": [],
   "source": []
  }
 ],
 "metadata": {
  "kernelspec": {
   "display_name": "Python 3 (ipykernel)",
   "language": "python",
   "name": "python3"
  },
  "language_info": {
   "codemirror_mode": {
    "name": "ipython",
    "version": 3
   },
   "file_extension": ".py",
   "mimetype": "text/x-python",
   "name": "python",
   "nbconvert_exporter": "python",
   "pygments_lexer": "ipython3",
   "version": "3.10.8"
  }
 },
 "nbformat": 4,
 "nbformat_minor": 5
}
