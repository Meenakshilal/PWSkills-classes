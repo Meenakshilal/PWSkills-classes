{
 "cells": [
  {
   "cell_type": "code",
   "execution_count": 2,
   "id": "24f6d176-a7e4-4240-b225-123f77f2785c",
   "metadata": {},
   "outputs": [
    {
     "name": "stdout",
     "output_type": "stream",
     "text": [
      "pwskills\n"
     ]
    }
   ],
   "source": [
    "print(\"pwskills\")"
   ]
  },
  {
   "cell_type": "code",
   "execution_count": 3,
   "id": "b20bd61a-115d-406a-a7ba-4c4f7dab2aa0",
   "metadata": {},
   "outputs": [
    {
     "name": "stdout",
     "output_type": "stream",
     "text": [
      "hi pwskills\n"
     ]
    }
   ],
   "source": [
    "x=\"hi\"\n",
    "y=\"pwskills\"\n",
    "print(f\"{x} {y}\")   ##f string format"
   ]
  },
  {
   "cell_type": "code",
   "execution_count": 4,
   "id": "3d8f1f91-cb7a-47d5-b4c0-57301b88573b",
   "metadata": {
    "tags": []
   },
   "outputs": [
    {
     "name": "stdout",
     "output_type": "stream",
     "text": [
      "pw and skills\n"
     ]
    }
   ],
   "source": [
    "print('{} and {}'.format(\"pw\",\"skills\"))"
   ]
  },
  {
   "cell_type": "code",
   "execution_count": 5,
   "id": "402dd761-0f92-4f99-8589-c5054eb0c383",
   "metadata": {},
   "outputs": [
    {
     "name": "stdout",
     "output_type": "stream",
     "text": [
      "89074562\n",
      "Hi!!\n",
      "$$Howareyou??\n",
      "10*10\n"
     ]
    }
   ],
   "source": [
    "print(\"\"\"89074562\n",
    "Hi!!\n",
    "$$Howareyou??\n",
    "10*10\"\"\")"
   ]
  },
  {
   "cell_type": "code",
   "execution_count": 6,
   "id": "221dc908-c8bd-4d97-91e3-32c9b8ed4ffe",
   "metadata": {},
   "outputs": [
    {
     "name": "stdout",
     "output_type": "stream",
     "text": [
      "$\n",
      "$$\n",
      "$$$\n",
      "$$$$\n",
      "$$$$$\n",
      "$$$$$$\n"
     ]
    }
   ],
   "source": [
    "print(\"\"\"$\n",
    "$$\n",
    "$$$\n",
    "$$$$\n",
    "$$$$$\n",
    "$$$$$$\"\"\")"
   ]
  },
  {
   "cell_type": "code",
   "execution_count": 7,
   "id": "a93d9eb9-626a-4a6a-8e23-79178593e990",
   "metadata": {},
   "outputs": [
    {
     "name": "stdin",
     "output_type": "stream",
     "text": [
      "enter your name meena\n"
     ]
    },
    {
     "name": "stdout",
     "output_type": "stream",
     "text": [
      " !meena!\n"
     ]
    }
   ],
   "source": [
    "x  = input(\"enter your name\")\n",
    "print(f\" !{x}!\")"
   ]
  },
  {
   "cell_type": "code",
   "execution_count": 9,
   "id": "b39faee3-1346-4c21-9a29-2833cc7e2be5",
   "metadata": {},
   "outputs": [],
   "source": [
    "a = 10\n",
    "b = 20"
   ]
  },
  {
   "cell_type": "code",
   "execution_count": 10,
   "id": "00ddb26f-65ed-43fe-80a9-b53f702c92cc",
   "metadata": {},
   "outputs": [
    {
     "data": {
      "text/plain": [
       "30"
      ]
     },
     "execution_count": 10,
     "metadata": {},
     "output_type": "execute_result"
    }
   ],
   "source": [
    "a+b"
   ]
  },
  {
   "cell_type": "code",
   "execution_count": 11,
   "id": "2b11fd7d-5e12-4cca-87a9-4c34f837c2fa",
   "metadata": {},
   "outputs": [
    {
     "data": {
      "text/plain": [
       "-10"
      ]
     },
     "execution_count": 11,
     "metadata": {},
     "output_type": "execute_result"
    }
   ],
   "source": [
    "a-b"
   ]
  },
  {
   "cell_type": "code",
   "execution_count": 12,
   "id": "990e4c55-4af8-407b-84f8-62977e459e98",
   "metadata": {},
   "outputs": [
    {
     "data": {
      "text/plain": [
       "200"
      ]
     },
     "execution_count": 12,
     "metadata": {},
     "output_type": "execute_result"
    }
   ],
   "source": [
    "a*b"
   ]
  },
  {
   "cell_type": "code",
   "execution_count": 13,
   "id": "56af3658-24a6-4c21-9796-a311de2eba15",
   "metadata": {},
   "outputs": [
    {
     "data": {
      "text/plain": [
       "0.5"
      ]
     },
     "execution_count": 13,
     "metadata": {},
     "output_type": "execute_result"
    }
   ],
   "source": [
    "a/b   #Division"
   ]
  },
  {
   "cell_type": "code",
   "execution_count": 14,
   "id": "0c39fec6-9d48-49d7-8e89-91129a639385",
   "metadata": {},
   "outputs": [
    {
     "data": {
      "text/plain": [
       "10"
      ]
     },
     "execution_count": 14,
     "metadata": {},
     "output_type": "execute_result"
    }
   ],
   "source": [
    "a%b        #Remainder"
   ]
  },
  {
   "cell_type": "code",
   "execution_count": 15,
   "id": "0f928fbc-1d3e-46ab-9680-ccebcd4b3a0a",
   "metadata": {},
   "outputs": [],
   "source": [
    "a =10\n",
    "b=10"
   ]
  },
  {
   "cell_type": "code",
   "execution_count": 16,
   "id": "c526dd82-aef5-4422-832f-51ed5b3b960c",
   "metadata": {},
   "outputs": [
    {
     "data": {
      "text/plain": [
       "True"
      ]
     },
     "execution_count": 16,
     "metadata": {},
     "output_type": "execute_result"
    }
   ],
   "source": [
    "a==b"
   ]
  },
  {
   "cell_type": "code",
   "execution_count": 17,
   "id": "91bf2bb1-8502-4c71-8ea5-d239ff0af3ad",
   "metadata": {},
   "outputs": [
    {
     "data": {
      "text/plain": [
       "True"
      ]
     },
     "execution_count": 17,
     "metadata": {},
     "output_type": "execute_result"
    }
   ],
   "source": [
    "a is b   #identity operator"
   ]
  },
  {
   "cell_type": "code",
   "execution_count": 18,
   "id": "17658f06-ba89-4f79-9a24-d51c64bd7981",
   "metadata": {},
   "outputs": [],
   "source": [
    "a=20\n",
    "b=30"
   ]
  },
  {
   "cell_type": "code",
   "execution_count": 19,
   "id": "02f535fd-2469-4e43-ad38-4adb8ac98461",
   "metadata": {},
   "outputs": [
    {
     "data": {
      "text/plain": [
       "False"
      ]
     },
     "execution_count": 19,
     "metadata": {},
     "output_type": "execute_result"
    }
   ],
   "source": [
    "a==b    #compares equality of objects"
   ]
  },
  {
   "cell_type": "code",
   "execution_count": 20,
   "id": "58862872-95c2-491b-9410-c7dbc8136acc",
   "metadata": {},
   "outputs": [
    {
     "data": {
      "text/plain": [
       "False"
      ]
     },
     "execution_count": 20,
     "metadata": {},
     "output_type": "execute_result"
    }
   ],
   "source": [
    "a is b  #this will check if it is pointing the same memory object"
   ]
  },
  {
   "cell_type": "code",
   "execution_count": 21,
   "id": "a4fecd29-072d-409d-89e7-99d1a0cf650b",
   "metadata": {},
   "outputs": [],
   "source": [
    "a = 10\n",
    "b = 10"
   ]
  },
  {
   "cell_type": "code",
   "execution_count": 22,
   "id": "5c9f00be-b646-4bc0-b868-bfbf07df1088",
   "metadata": {},
   "outputs": [
    {
     "data": {
      "text/plain": [
       "139659578343952"
      ]
     },
     "execution_count": 22,
     "metadata": {},
     "output_type": "execute_result"
    }
   ],
   "source": [
    "id(a)"
   ]
  },
  {
   "cell_type": "code",
   "execution_count": 23,
   "id": "e6d9c47c-e6c1-413b-86a1-292265e952c9",
   "metadata": {},
   "outputs": [
    {
     "data": {
      "text/plain": [
       "139659578343952"
      ]
     },
     "execution_count": 23,
     "metadata": {},
     "output_type": "execute_result"
    }
   ],
   "source": [
    "id(b)"
   ]
  },
  {
   "cell_type": "code",
   "execution_count": 24,
   "id": "a1aeb400-93b8-4d30-a9c4-b00cfddd1d5a",
   "metadata": {},
   "outputs": [
    {
     "data": {
      "text/plain": [
       "True"
      ]
     },
     "execution_count": 24,
     "metadata": {},
     "output_type": "execute_result"
    }
   ],
   "source": [
    "a is b"
   ]
  },
  {
   "cell_type": "code",
   "execution_count": 25,
   "id": "b5803d7c-b7a3-427a-857c-e61a90483556",
   "metadata": {},
   "outputs": [
    {
     "data": {
      "text/plain": [
       "False"
      ]
     },
     "execution_count": 25,
     "metadata": {},
     "output_type": "execute_result"
    }
   ],
   "source": [
    "a!=b"
   ]
  },
  {
   "cell_type": "code",
   "execution_count": 26,
   "id": "219e35ef-5387-4a85-b5ac-6e67db6fd0cd",
   "metadata": {},
   "outputs": [],
   "source": [
    "a = [1,2,3]\n",
    "b = [1,2,3]"
   ]
  },
  {
   "cell_type": "code",
   "execution_count": 27,
   "id": "520f706a-bb26-4fe9-95a3-f56e991a890a",
   "metadata": {},
   "outputs": [
    {
     "data": {
      "text/plain": [
       "True"
      ]
     },
     "execution_count": 27,
     "metadata": {},
     "output_type": "execute_result"
    }
   ],
   "source": [
    "a == b"
   ]
  },
  {
   "cell_type": "code",
   "execution_count": 28,
   "id": "d6eef1cd-3522-407f-8c3c-3db9ef20b0be",
   "metadata": {},
   "outputs": [
    {
     "data": {
      "text/plain": [
       "False"
      ]
     },
     "execution_count": 28,
     "metadata": {},
     "output_type": "execute_result"
    }
   ],
   "source": [
    "a is b"
   ]
  },
  {
   "cell_type": "code",
   "execution_count": 29,
   "id": "222654d7-d2fb-4d0b-86f3-497aa665c23a",
   "metadata": {},
   "outputs": [
    {
     "data": {
      "text/plain": [
       "139659535534592"
      ]
     },
     "execution_count": 29,
     "metadata": {},
     "output_type": "execute_result"
    }
   ],
   "source": [
    "id(a)"
   ]
  },
  {
   "cell_type": "code",
   "execution_count": 30,
   "id": "ab4e69b8-dfcb-48c4-8a91-58053ebadf52",
   "metadata": {},
   "outputs": [
    {
     "data": {
      "text/plain": [
       "139658960928512"
      ]
     },
     "execution_count": 30,
     "metadata": {},
     "output_type": "execute_result"
    }
   ],
   "source": [
    "id(b)"
   ]
  },
  {
   "cell_type": "code",
   "execution_count": 31,
   "id": "3fe20f91-0643-4b93-a102-a6be20377ebe",
   "metadata": {},
   "outputs": [
    {
     "name": "stdin",
     "output_type": "stream",
     "text": [
      "enter the integer 52\n"
     ]
    },
    {
     "name": "stdout",
     "output_type": "stream",
     "text": [
      "962145098057686\n"
     ]
    }
   ],
   "source": [
    "x = int(input(\"enter the integer\"))\n",
    "print (3**35//x)"
   ]
  },
  {
   "cell_type": "code",
   "execution_count": 33,
   "id": "c82dc915-d7e3-497e-870f-3199a57f93de",
   "metadata": {},
   "outputs": [
    {
     "data": {
      "text/plain": [
       "4"
      ]
     },
     "execution_count": 33,
     "metadata": {},
     "output_type": "execute_result"
    }
   ],
   "source": [
    "2**2"
   ]
  },
  {
   "cell_type": "code",
   "execution_count": 34,
   "id": "e1c83beb-6a1b-4e8a-92a4-fa87e626c4f9",
   "metadata": {},
   "outputs": [],
   "source": [
    "a = 10\n",
    "b = 20"
   ]
  },
  {
   "cell_type": "code",
   "execution_count": 35,
   "id": "84ddfb2b-10f4-467e-8bce-e64ed71f7a2c",
   "metadata": {},
   "outputs": [
    {
     "data": {
      "text/plain": [
       "False"
      ]
     },
     "execution_count": 35,
     "metadata": {},
     "output_type": "execute_result"
    }
   ],
   "source": [
    "a>b"
   ]
  },
  {
   "cell_type": "code",
   "execution_count": 36,
   "id": "85fc06d9-0757-4029-94bf-e7e27551dd84",
   "metadata": {},
   "outputs": [
    {
     "data": {
      "text/plain": [
       "True"
      ]
     },
     "execution_count": 36,
     "metadata": {},
     "output_type": "execute_result"
    }
   ],
   "source": [
    "a<b"
   ]
  },
  {
   "cell_type": "code",
   "execution_count": 37,
   "id": "c011e463-a22f-4e45-ba28-3911427e0a15",
   "metadata": {},
   "outputs": [],
   "source": [
    "a = 10\n",
    "b = 4"
   ]
  },
  {
   "cell_type": "code",
   "execution_count": 38,
   "id": "e7d06a0a-0d89-4d3c-9ec5-54889b530fa5",
   "metadata": {},
   "outputs": [
    {
     "data": {
      "text/plain": [
       "'0b1010'"
      ]
     },
     "execution_count": 38,
     "metadata": {},
     "output_type": "execute_result"
    }
   ],
   "source": [
    "bin(a)    #binary value bin()"
   ]
  },
  {
   "cell_type": "code",
   "execution_count": 39,
   "id": "cd6e2c9c-f3b0-4fe7-874f-b2b780b1cef6",
   "metadata": {},
   "outputs": [
    {
     "data": {
      "text/plain": [
       "'0b100'"
      ]
     },
     "execution_count": 39,
     "metadata": {},
     "output_type": "execute_result"
    }
   ],
   "source": [
    "bin(b)"
   ]
  },
  {
   "cell_type": "code",
   "execution_count": 40,
   "id": "804e7b84-38b9-4ba2-8e4b-6f652650e0e2",
   "metadata": {},
   "outputs": [
    {
     "data": {
      "text/plain": [
       "0"
      ]
     },
     "execution_count": 40,
     "metadata": {},
     "output_type": "execute_result"
    }
   ],
   "source": [
    "a&b  ## and operator"
   ]
  },
  {
   "cell_type": "code",
   "execution_count": 41,
   "id": "da3c5892-b612-4544-8368-75df1ff89b62",
   "metadata": {},
   "outputs": [
    {
     "data": {
      "text/plain": [
       "14"
      ]
     },
     "execution_count": 41,
     "metadata": {},
     "output_type": "execute_result"
    }
   ],
   "source": [
    "a | b  # or operator"
   ]
  },
  {
   "cell_type": "code",
   "execution_count": 42,
   "id": "25445cf4-d89a-4eaf-bf6e-8c95a2de758f",
   "metadata": {},
   "outputs": [
    {
     "data": {
      "text/plain": [
       "10"
      ]
     },
     "execution_count": 42,
     "metadata": {},
     "output_type": "execute_result"
    }
   ],
   "source": [
    "a"
   ]
  },
  {
   "cell_type": "code",
   "execution_count": 44,
   "id": "547bd6e8-2d36-46e1-96fe-f0d6775b9887",
   "metadata": {},
   "outputs": [
    {
     "data": {
      "text/plain": [
       "-11"
      ]
     },
     "execution_count": 44,
     "metadata": {},
     "output_type": "execute_result"
    }
   ],
   "source": [
    "~a #negative value "
   ]
  },
  {
   "cell_type": "code",
   "execution_count": 46,
   "id": "44b73451-4148-4607-82d9-0337aa9c0d54",
   "metadata": {},
   "outputs": [
    {
     "data": {
      "text/plain": [
       "14"
      ]
     },
     "execution_count": 46,
     "metadata": {},
     "output_type": "execute_result"
    }
   ],
   "source": [
    "a ^ b ##XOR"
   ]
  },
  {
   "cell_type": "code",
   "execution_count": 47,
   "id": "a96ab7aa-c5d5-4c33-950b-764f48314301",
   "metadata": {},
   "outputs": [
    {
     "data": {
      "text/plain": [
       "10"
      ]
     },
     "execution_count": 47,
     "metadata": {},
     "output_type": "execute_result"
    }
   ],
   "source": [
    "a"
   ]
  },
  {
   "cell_type": "code",
   "execution_count": 50,
   "id": "46436364-9f1a-45a5-a14e-33ffc4a81f68",
   "metadata": {},
   "outputs": [
    {
     "data": {
      "text/plain": [
       "5"
      ]
     },
     "execution_count": 50,
     "metadata": {},
     "output_type": "execute_result"
    }
   ],
   "source": [
    "a>>1  ##Right shift"
   ]
  },
  {
   "cell_type": "code",
   "execution_count": 51,
   "id": "9a585723-c49d-45a8-ae37-5268c13215e4",
   "metadata": {},
   "outputs": [
    {
     "data": {
      "text/plain": [
       "20"
      ]
     },
     "execution_count": 51,
     "metadata": {},
     "output_type": "execute_result"
    }
   ],
   "source": [
    "a<<1 ##Left shift"
   ]
  },
  {
   "cell_type": "code",
   "execution_count": 52,
   "id": "c990d42c-827f-4ca5-93b2-975cebd4fbe8",
   "metadata": {},
   "outputs": [],
   "source": [
    "a+=1"
   ]
  },
  {
   "cell_type": "code",
   "execution_count": 53,
   "id": "db77359d-9cc0-4c97-b134-d767491896b1",
   "metadata": {},
   "outputs": [
    {
     "data": {
      "text/plain": [
       "11"
      ]
     },
     "execution_count": 53,
     "metadata": {},
     "output_type": "execute_result"
    }
   ],
   "source": [
    "a"
   ]
  },
  {
   "cell_type": "code",
   "execution_count": null,
   "id": "98579ed7-6d2c-4333-977c-1e3140d79318",
   "metadata": {},
   "outputs": [],
   "source": []
  }
 ],
 "metadata": {
  "kernelspec": {
   "display_name": "Python 3 (ipykernel)",
   "language": "python",
   "name": "python3"
  },
  "language_info": {
   "codemirror_mode": {
    "name": "ipython",
    "version": 3
   },
   "file_extension": ".py",
   "mimetype": "text/x-python",
   "name": "python",
   "nbconvert_exporter": "python",
   "pygments_lexer": "ipython3",
   "version": "3.10.8"
  }
 },
 "nbformat": 4,
 "nbformat_minor": 5
}
